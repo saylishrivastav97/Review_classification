{
 "cells": [
  {
   "cell_type": "markdown",
   "metadata": {},
   "source": [
    "# COMP41680 Assignment 2\n",
    "# Student Number: 19204505"
   ]
  },
  {
   "cell_type": "markdown",
   "metadata": {},
   "source": [
    "# Task 1 : Scraping data and storing in three seperate datasets"
   ]
  },
  {
   "cell_type": "code",
   "execution_count": 251,
   "metadata": {},
   "outputs": [],
   "source": [
    "# Importing all the necessary libraries\n",
    "import bs4\n",
    "import urllib.request\n",
    "import pandas as pd\n",
    "import numpy as np\n",
    "from sklearn.model_selection import train_test_split\n",
    "from sklearn.feature_extraction.text import CountVectorizer\n",
    "from sklearn.naive_bayes import MultinomialNB\n",
    "from sklearn.linear_model import LogisticRegression\n",
    "from sklearn.ensemble import RandomForestClassifier\n",
    "from sklearn import metrics\n",
    "from sklearn.feature_extraction.text import TfidfVectorizer\n",
    "from sklearn.feature_extraction.text import TfidfTransformer\n",
    "from sklearn.metrics import *\n",
    "from matplotlib import pyplot as plt\n",
    "from mlxtend.plotting import plot_confusion_matrix"
   ]
  },
  {
   "cell_type": "code",
   "execution_count": 252,
   "metadata": {},
   "outputs": [],
   "source": [
    "mainlink = \"http://mlg.ucd.ie/modules/yalp/\" # storing the main link for future use"
   ]
  },
  {
   "cell_type": "code",
   "execution_count": 253,
   "metadata": {},
   "outputs": [
    {
     "name": "stdout",
     "output_type": "stream",
     "text": [
      "200\n"
     ]
    }
   ],
   "source": [
    "response = urllib.request.urlopen(mainlink) # get the content in response variable\n",
    "print(response.code) # see if the request was processed succesfully"
   ]
  },
  {
   "cell_type": "code",
   "execution_count": 254,
   "metadata": {},
   "outputs": [
    {
     "name": "stdout",
     "output_type": "stream",
     "text": [
      "<!DOCTYPE html>\n",
      "<html lang=\"en\">\n",
      "<head>\n",
      "    <meta name=\"robots\" content=\"noindex\">  \n",
      "    <meta name=\"description\" content=\"Content on this site is posted for teaching purposes only. Original data is from yelp.com\">\n",
      "    <meta charset=\"utf-8\">\n",
      "    <meta http-equiv=\"X-UA-Compatible\" content=\"IE=edge\">\n",
      "    <meta name=\"viewport\" content=\"width=device-width, initial-scale=1\">\n",
      "    <title>Yalp Home</title>\n",
      "    <link rel=\"shortcut icon\" href=\"images/favicon.ico\">\n",
      "    <!-- Bootstrap core CSS -->\n",
      "    <link href=\"assets/css/bootstrap.css\" rel=\"stylesheet\">\n",
      "    <!-- Custom styles for this template -->\n",
      "    <link href=\"assets/css/style.css\" rel=\"stylesheet\">\n",
      "    <link href=\"assets/css/font-awesome.min.css\" rel=\"stylesheet\">\n",
      "    <script src=\"assets/js/modernizr.js\"></script>\n",
      "</head>\n",
      "<body>\n",
      "    <div class=\"container mtb\">\n",
      "        <div class=\"row\">\n",
      "        <div class=\"col-md-12\">\n",
      "          <h3 class=\"info\"><a href=\"index.html\" class=\"info\">Yalp</a> &mdash; Home</h3>\n",
      "        </div>\n",
      "        </div>\n",
      "        <div class=\"row\">\n",
      "            <div id=\"content\" class=\"col-md-10\">\n",
      "                <div id=\"all\">\n",
      "\n",
      "   \n",
      "    \n",
      "\n",
      "<p>Select a business category from the list below to browse customer reviews:</p>\n",
      "\t\t\t<div class='category'><h4><a href='automotive_list.html'>Category: Automotive</a>&nbsp;&nbsp;(132 businesses)</h4></div>\n",
      "\t\t\t<div class='category'><h4><a href='cafes_list.html'>Category: Cafes</a>&nbsp;&nbsp;(96 businesses)</h4></div>\n",
      "\t\t\t<div class='category'><h4><a href='fashion_list.html'>Category: Fashion</a>&nbsp;&nbsp;(159 businesses)</h4></div>\n",
      "\t\t\t<div class='category'><h4><a href='gym_list.html'>Category: Gym</a>&nbsp;&nbsp;(122 businesses)</h4></div>\n",
      "\t\t\t<div class='category'><h4><a href='hair_salons_list.html'>Category: Hair and Salons</a>&nbsp;&nbsp;(143 businesses)</h4></div>\n",
      "\t\t\t<div class='category'><h4><a href='hotels_list.html'>Category: Hotels</a>&nbsp;&nbsp;(113 businesses)</h4></div>\n",
      "\t\t\t<div class='category'><h4><a href='restaurants_list.html'>Category: Restaurants</a>&nbsp;&nbsp;(100 businesses)</h4></div>\n",
      "             </div>\n",
      "            </div>\n",
      "        </div>\n",
      "    \n",
      "        <div class=\"footer\">\n",
      "        Content on this site is posted for teaching purposes only. \n",
      "        </div>\n",
      "    </div>\n",
      "\n",
      "    <!-- Bootstrap core JavaScript\n",
      "    ================================================== -->\n",
      "    <!-- Placed at the end of the document so the pages load faster -->\n",
      "    <script src=\"https://ajax.googleapis.com/ajax/libs/jquery/1.11.0/jquery.min.js\"></script>\n",
      "    <script src=\"assets/js/bootstrap.min.js\"></script>\n",
      "    <script src=\"assets/js/retina-1.1.0.js\"></script>\n",
      "    <script src=\"assets/js/jquery.hoverdir.js\"></script>\n",
      "    <script src=\"assets/js/jquery.hoverex.min.js\"></script>\n",
      "    <script src=\"assets/js/jquery.isotope.min.js\"></script>\n",
      "    <script src=\"assets/js/custom.js\"></script>\n",
      "  </body>\n",
      "</html>\n"
     ]
    }
   ],
   "source": [
    "html = response.read().decode()\n",
    "html_lines = html.strip().split(\"\\n\") # get the html page in readable format by stripping lines\n",
    "for i in html_lines:\n",
    " print(i) # print the lines"
   ]
  },
  {
   "cell_type": "code",
   "execution_count": 255,
   "metadata": {},
   "outputs": [
    {
     "name": "stdout",
     "output_type": "stream",
     "text": [
      "['index.html', 'automotive_list.html', 'cafes_list.html', 'fashion_list.html', 'gym_list.html', 'hair_salons_list.html', 'hotels_list.html', 'restaurants_list.html']\n"
     ]
    }
   ],
   "source": [
    "parser = bs4.BeautifulSoup(html,\"html.parser\") \n",
    "categories = []\n",
    "for match in parser.find_all('a'):    \n",
    "    categories.append(match.get('href')) # get the categories in array categories\n",
    "print(categories) # print the categories"
   ]
  },
  {
   "cell_type": "code",
   "execution_count": 256,
   "metadata": {},
   "outputs": [
    {
     "data": {
      "text/plain": [
       "['http://mlg.ucd.ie/modules/yalp/fashion_list.html',\n",
       " 'http://mlg.ucd.ie/modules/yalp/gym_list.html',\n",
       " 'http://mlg.ucd.ie/modules/yalp/restaurants_list.html']"
      ]
     },
     "execution_count": 256,
     "metadata": {},
     "output_type": "execute_result"
    }
   ],
   "source": [
    "categories = [mainlink+categories[3], mainlink+categories[4], mainlink+categories[7]] # append the chosen categories with main link\n",
    "categories # display the chosen categories "
   ]
  },
  {
   "cell_type": "code",
   "execution_count": 257,
   "metadata": {},
   "outputs": [
    {
     "data": {
      "text/plain": [
       "[['index.html',\n",
       "  'review_set_eh_tMFEJMZzEM3swCqUNJA.html',\n",
       "  'review_set_3ufeMJ2DTf1riU4Bi-gryg.html',\n",
       "  'review_set_KjjQGzu0241FbeERM32dpQ.html',\n",
       "  'review_set_t8Mo-KiivPqXbFKJmakj4w.html',\n",
       "  'review_set_K6yaRzeAygK6Ha_YJnwIbg.html',\n",
       "  'review_set_VYaXjNs2Nxp-TKJRH1L25A.html',\n",
       "  'review_set_E8t19sCra4kctooZMitsZw.html',\n",
       "  'review_set_drjYqhKXgOfW9OYCwQEQfQ.html',\n",
       "  'review_set_6q3D1RTChNltJviipr1CPA.html',\n",
       "  'review_set_zfxjGCMSY6CRTrcVtpmJYA.html',\n",
       "  'review_set_CGv-5oD6zM64pfbcOnVY1w.html',\n",
       "  'review_set_sLQUMUETOruStVknkxxEtQ.html',\n",
       "  'review_set_nxXIBbN1yqSQLSD6Dv-D_w.html',\n",
       "  'review_set_JFpD5UJjopEm4BvFtmNLjw.html',\n",
       "  'review_set_vEwnnC_Qwuk0KbcnkoTbyw.html',\n",
       "  'review_set_RHyihD5lZIXXXwxFpPphmw.html',\n",
       "  'review_set_XAw6mpKbTAgjMdxCFQ4UxA.html',\n",
       "  'review_set_0Z5501L4Jh2KBIvMHzFgtg.html',\n",
       "  'review_set_DmFO4PabO2CoCOStOBqkAg.html',\n",
       "  'review_set_319J-Mc0VAoPw8UrbtARVQ.html',\n",
       "  'review_set_FVjnVMn1zuo_yRa9Xxl4Xw.html',\n",
       "  'review_set_bmBlZrRCSF9EQ1GZbn44uA.html',\n",
       "  'review_set_BmJdcOr-XOyM_Otc3wMraQ.html',\n",
       "  'review_set_d8SWJ-jqoQosKans_IF_9A.html',\n",
       "  'review_set_MdtsA9oE2aFEYLHqmKfp9w.html',\n",
       "  'review_set_XxwrhGSDOZbjGkuSueDSpQ.html',\n",
       "  'review_set_Kk-dEqWvY3auFM7AOAs8eg.html',\n",
       "  'review_set_ACukMRSxEraQmQqjWsvKPQ.html',\n",
       "  'review_set_G0pxLBptAsVyJHfGQMIEJA.html',\n",
       "  'review_set_O9SiaLm_Ql0FKvVa2Ua5xA.html',\n",
       "  'review_set_-f0zCpKvtNniDhLASWcxcw.html',\n",
       "  'review_set_Q8Yn4ihQK45PMSrfiX2KSQ.html',\n",
       "  'review_set_-hq1qB-TIOUl13gKMiGQMA.html',\n",
       "  'review_set_xOBGRcwixDTyUJJmGYIxDw.html',\n",
       "  'review_set_pKOy7-pP-BdSVcCrtQo_ww.html',\n",
       "  'review_set_BBIJ5hPG7nIY7CFxcJnKVQ.html',\n",
       "  'review_set_MaTxNkWK2F6zaDG8mi9hbw.html',\n",
       "  'review_set_CXHujlzd-_2QFPw53Z_LZQ.html',\n",
       "  'review_set_lBVg3le33TxYMKKO-4v8PQ.html',\n",
       "  'review_set_5ZBaDWQD5nAw0j1XwOvf3w.html',\n",
       "  'review_set_6zRVeLNVJOJCuYDdY_lsgQ.html',\n",
       "  'review_set_FZxWRbl8m7hal19Gsc8BKA.html',\n",
       "  'review_set_momwgw47Pkkbz9ciHQLpsw.html',\n",
       "  'review_set_5lsoilXZazQhacUoELPdtA.html',\n",
       "  'review_set_tYAOVeGuGKk78TyzQzVcpg.html',\n",
       "  'review_set_XB4NyBeDgPYmmfK_23kl7w.html',\n",
       "  'review_set_6kLh-h9WffSJRdAKBkhOrg.html',\n",
       "  'review_set_p0Ssn1VF_YtZzdmf1sQJuQ.html',\n",
       "  'review_set_qFlM7c2kBimRLCF_VJ8Qhw.html',\n",
       "  'review_set_PQOaNdbwkKQ81eTESzG1FA.html',\n",
       "  'review_set_0010xnFOCyJZeMAuTtiv5w.html',\n",
       "  'review_set_quNsF2gdqKulu5D6pvZI0w.html',\n",
       "  'review_set_gJud4JjLUyEwtUSKslsnjg.html',\n",
       "  'review_set_91hRbV81f0lA84H9FLnt2w.html',\n",
       "  'review_set_Ubod0uoQANXIr7LvpydR_A.html',\n",
       "  'review_set_3WAqlDxxhR8JjEOmU2E0Rg.html',\n",
       "  'review_set_R9IC8oycIfrPTYdd9FHhig.html',\n",
       "  'review_set_xQlQb8yzYO4O5F39OuR7gA.html',\n",
       "  'review_set_fj8L3IWG9XP_RcVEbI-uzw.html',\n",
       "  'review_set_VVG7z0fNQ2Ok0IvI8WBK1A.html',\n",
       "  'review_set__FJjh7stbxPP7Tz7HzyznQ.html',\n",
       "  'review_set_pelIj-giNaZe-nfoNfYHgw.html',\n",
       "  'review_set_PuN81O1J9Ka6XxsldtXFtA.html',\n",
       "  'review_set_4ukcDkudwIShJHpR5l5JqA.html',\n",
       "  'review_set_-ceYX-NI-iqcLOX9tlIcEw.html',\n",
       "  'review_set_zY7c7GNmP4o2dCWvpNaj8A.html',\n",
       "  'review_set_T-p14DRsdJ2luGX3ojztLQ.html',\n",
       "  'review_set_fyqjibJc4jZSiNVDlaZ2Ug.html',\n",
       "  'review_set_pvfJAey68z12gBwfSIP7Vw.html',\n",
       "  'review_set_S90RSdPuh2SxSDJFj574eQ.html',\n",
       "  'review_set_SIYpdFCOWEJLRnP2WGjbGg.html',\n",
       "  'review_set_EtdqNjDFx0Lm8h_0mCdfVg.html',\n",
       "  'review_set_IYsyXxSEB4gCEO7zG_YB4g.html',\n",
       "  'review_set_4bed2egQTt4FMu3z9SEshQ.html',\n",
       "  'review_set_ONC6M3lNXfMbEjuSLc1slA.html',\n",
       "  'review_set_l7ajNVtV_JmXOop3h0gpKw.html',\n",
       "  'review_set_inuZzNhcBBv-hPshzuXKaQ.html',\n",
       "  'review_set_LR950RCdjXZSBTL0uqx0fA.html',\n",
       "  'review_set_vfVy-2M2K5xSl0g2dpWBZA.html',\n",
       "  'review_set_ChspW4GPbl1B3GEhLSRIDQ.html',\n",
       "  'review_set_EI1JrGwgVzgX_1V9wGiuOg.html',\n",
       "  'review_set_7GKEZbS-xFmCxBSnX8ttNg.html',\n",
       "  'review_set_RD-PqIwfJdprEnPwS9GS8Q.html',\n",
       "  'review_set_n90YPt4GBGHESgGPCBES_A.html',\n",
       "  'review_set_d5o3VFGMw_BFLPRwNrRkTA.html',\n",
       "  'review_set_6xVjiYjoMdeZ4lLb5apQsg.html',\n",
       "  'review_set_L8QQDrWff_uPSzU45gcSvQ.html',\n",
       "  'review_set_x_1BhmQNn37BShhqlfNRmQ.html',\n",
       "  'review_set_rneYUjMuC8JJIFhJpnG_dQ.html',\n",
       "  'review_set__SleE-VoYLE4IKOdZikHIg.html',\n",
       "  'review_set_ovF4z49i3LbU4iSxgCmopQ.html',\n",
       "  'review_set_dd4PG9yjGOiv4EQG7D5BTg.html',\n",
       "  'review_set_Po8dR8oj4INZaNRe2-TLQw.html',\n",
       "  'review_set_AxoD6TJc_tIJUIXYiBFjAw.html',\n",
       "  'review_set_xuZ_5uEAerrmu7r_NxGAZQ.html',\n",
       "  'review_set_YvgOq2avx79tLXw6s_eBSg.html',\n",
       "  'review_set_LCKSewKJPGvCeyO6mw5abw.html',\n",
       "  'review_set_GpfrnYOBZcH2XsHcbNflbw.html',\n",
       "  'review_set_uTC7YbsMJJnTFQk7nUorOA.html',\n",
       "  'review_set_PX-PYOxCnwLJogxktXhsBA.html',\n",
       "  'review_set_YSo6YUJiXbST0ZFGrpxuBg.html',\n",
       "  'review_set_K1t5YQoC1G7lIxWvNpCxng.html',\n",
       "  'review_set_sEE_H7L-qjrtoHjwWiqpbQ.html',\n",
       "  'review_set_5Xjd6NJv-thth9ec8Cwsjg.html',\n",
       "  'review_set_h9PXbwY6E3LINCYan2zcsg.html',\n",
       "  'review_set_fSw3ztKOSNhEw36gr4MxYQ.html',\n",
       "  'review_set_GKtVASxg9ZafsNEQnFsipQ.html',\n",
       "  'review_set_yNUQ_B_xz_HGcWXQYMRZwg.html',\n",
       "  'review_set_u8HKpaTN8M1hzKdonx50kA.html',\n",
       "  'review_set_urGVX53RUo01fxKQnVYZFQ.html',\n",
       "  'review_set_o6N9CoOhiM6DG33VlHamLQ.html',\n",
       "  'review_set_jF2__R8dk6wrfELxHx5LOA.html',\n",
       "  'review_set_V-BdZIQR0n08aSBNPXtOjQ.html',\n",
       "  'review_set_RBFq3wAefh7SLTS-gE01kg.html',\n",
       "  'review_set_vUsPxHrZqRzHkCj3RPzjFQ.html',\n",
       "  'review_set_BBfY4zTgtg9OdCigiQohRQ.html',\n",
       "  'review_set__ZBzbuRsbwLwHZ0wUcYkCQ.html',\n",
       "  'review_set_68DBEQq7I0lqlY9bMQdb-Q.html',\n",
       "  'review_set_CuCG4O8bYfGuRkET0NIUiA.html',\n",
       "  'review_set_BnYadh_BSwBV4z-acodXNQ.html',\n",
       "  'review_set_Rmyqn_pUyFpjPhwaIkhJjw.html',\n",
       "  'review_set_qkVPytomhxm5g0dMEH2xpQ.html',\n",
       "  'review_set_ckbxCijGN-zUK_QmCPoGcQ.html',\n",
       "  'review_set_cKhtfT5MkU8aQ6_RVhZsRQ.html',\n",
       "  'review_set_nkhLZJXqIwYKsldbRFAqaQ.html',\n",
       "  'review_set_KgFmLr-HZeUZc7nsjMkSRw.html',\n",
       "  'review_set_lAi7njJ_vqL9bt1CCdF7HQ.html',\n",
       "  'review_set_nz_K4zFYAfFXxqMGUyiadg.html',\n",
       "  'review_set_fZQ3QjGMRELHG9f0WnN8vw.html',\n",
       "  'review_set_V6bNyyJqc7AYSXGHcrd6IA.html',\n",
       "  'review_set_u_iVzxxSAc--cDLtOf2HZA.html',\n",
       "  'review_set_PEeZMDZEr_P01Kub-ftluw.html',\n",
       "  'review_set_vP-TuPr7fZ107L8Z4JommQ.html',\n",
       "  'review_set_Bj2JoTfsqjPyIasM2lvtGg.html',\n",
       "  'review_set_j_-AlmCecYEtIl-mjZaKqA.html',\n",
       "  'review_set_JpheWMtV0VLqoNngrxzlBw.html',\n",
       "  'review_set_tUqg3_lvE4tAkKSOZdof1g.html',\n",
       "  'review_set_EQKvMqW6TgbWiHzwS-HH-w.html',\n",
       "  'review_set_VAC5qtRpODB4S6aO2GkEpg.html',\n",
       "  'review_set_2cWINwghYpMerikeeu5k0g.html',\n",
       "  'review_set_rai7E_s43a3-oXKJYXHhIw.html',\n",
       "  'review_set_TxX5L1gvSUtz2zmCbOvS3w.html',\n",
       "  'review_set_P8UM0ChL_EikLini6Alv6w.html',\n",
       "  'review_set_kOvxt1mTPZXdxBrIpD2fpw.html',\n",
       "  'review_set_Bhqb_2tRCcgesaxCuQlkow.html',\n",
       "  'review_set_g6VqLCFfd4avtChEt-vMlw.html',\n",
       "  'review_set_fYJ8Qh43y3XARmpUqSIYKg.html',\n",
       "  'review_set_yfkVdJH71Bj-Lil3cWfW4w.html',\n",
       "  'review_set_-XFoc63x6gWzR_HQJBz_hA.html',\n",
       "  'review_set_w1MY8o5LDRJ13k9vT3V8UA.html',\n",
       "  'review_set_qpSUknlPxSLmGnvfEaw4bA.html',\n",
       "  'review_set_HFFN5YvKTb6ERYYLS3YnoQ.html',\n",
       "  'review_set_C7IzXAlvlPShszL-ERZivQ.html',\n",
       "  'review_set_K80anqDnRDkGWLWwgpTfag.html',\n",
       "  'review_set_JNQ7bk8gZup81fFT_awy7Q.html',\n",
       "  'review_set_VxLMDS0Tb8CdD4jag6B2lQ.html',\n",
       "  'review_set_r83fWVZq4q8G6EwdtCopkg.html',\n",
       "  'review_set_DvbHpUGt7DfuZQhJ7UJvdQ.html',\n",
       "  'review_set_RPBQD0YUtWrv9bRPoOgb0g.html'],\n",
       " ['index.html',\n",
       "  'review_set_ei_4xj1zfVEczaJV7ZdsNA.html',\n",
       "  'review_set_TbsSnPjQsmwmszV95uLJ4w.html',\n",
       "  'review_set_25Qa4NoliJ75F_6u3nqZhw.html',\n",
       "  'review_set_ip-0MsQaogm18KQhhnTqTQ.html',\n",
       "  'review_set_63lkQ2JyOIYWg2b-vMkrrw.html',\n",
       "  'review_set_RSTitmG9qW4LYXQBfNNqpQ.html',\n",
       "  'review_set_hM4mJ29nMMuauqAUStcy8g.html',\n",
       "  'review_set_WJZY8-AVQMhbp84se7H8Bw.html',\n",
       "  'review_set_9xcEdoY2D2O0P18vGsCDMw.html',\n",
       "  'review_set_31cCwS3xzuz89qS__Pw7bg.html',\n",
       "  'review_set_uIrEaKOgWk0OOlolxwU1PA.html',\n",
       "  'review_set_60VqleCpYQWhhUAq3wOh2A.html',\n",
       "  'review_set_vbFlzg9VPC8ebE67N_ZGAw.html',\n",
       "  'review_set_b3Kn9ucwRGbFqJcQV0ipRA.html',\n",
       "  'review_set_Jx0P0n25MT-jZFG_P0cVqQ.html',\n",
       "  'review_set_JPrnP6WFNaS-aN4mt0tlwQ.html',\n",
       "  'review_set_z0J5ulstB5vqVPxMoaA2YA.html',\n",
       "  'review_set_pNNRuhaLOReqqyUeAztp1g.html',\n",
       "  'review_set_Nu2CMMUeGH6sSzlmwnFY1Q.html',\n",
       "  'review_set_MAomqpzFEJWSB2bOFA-IlA.html',\n",
       "  'review_set_WU0rArtd0GcTt8ndKzeKaw.html',\n",
       "  'review_set_eTAK7JUhLG105DWMW4qeYw.html',\n",
       "  'review_set_0BjG7BImkDwdvQqKhQLuzw.html',\n",
       "  'review_set_kb6WPs0koeiyPy-4S7iRIA.html',\n",
       "  'review_set_JoPLZ8vIwuk-GohDRE3Rxw.html',\n",
       "  'review_set_I4Oi_pyZBSZtAVjZHoTFWg.html',\n",
       "  'review_set_G91EuQd7s2smunA6B_UWRw.html',\n",
       "  'review_set_dgbojHKoThh0DVZeEtq5qw.html',\n",
       "  'review_set_nW0vxbtTOIUa41nJRpORww.html',\n",
       "  'review_set_CtsAPh-v_cZZzU0URzogyQ.html',\n",
       "  'review_set_U19IqPyCr7gM-Er2ET734Q.html',\n",
       "  'review_set_7l2u_eISbJZ2gOyjUCkAMQ.html',\n",
       "  'review_set_u6nZOYK-LhOKFIuoizQEvg.html',\n",
       "  'review_set_9NeaMCrJapb5mSXAx3AiaA.html',\n",
       "  'review_set_3z01T4QdVAMWvFNDrg7Mnw.html',\n",
       "  'review_set_uDY-aHcgVFv4Xxov9QHaaw.html',\n",
       "  'review_set_mamLM556dasQuFWszYd4qQ.html',\n",
       "  'review_set_zGDYsZLATXebAKVLVCEKlg.html',\n",
       "  'review_set_LHrksD6vqQW5PY4lRwJSDQ.html',\n",
       "  'review_set_a5Fx2JdwwIiR72Wmmep2rA.html',\n",
       "  'review_set_NsLiXuHzy6DMGu2N8WtX1w.html',\n",
       "  'review_set_yCJvVJirvdKg1JucqKepDQ.html',\n",
       "  'review_set_nVmVhzPm0CDWemrrPKy4sQ.html',\n",
       "  'review_set_7aQMQlWraYpMzwhqVwfhnQ.html',\n",
       "  'review_set_8zBhtpDGERGiHU48BWQVDQ.html',\n",
       "  'review_set_xa1x9RxP8ESdvmj6mMYwww.html',\n",
       "  'review_set_YYapxL_zuPZ2C8t0vgcHqw.html',\n",
       "  'review_set_IzC1oXHT_TxYej_6YTfBnA.html',\n",
       "  'review_set_LQlrK5vf2Sh09RJVwiBY3g.html',\n",
       "  'review_set_AKuHtg-xNTtMLEL35tbWVA.html',\n",
       "  'review_set_V5-Ym9xgjUl-KJo6IzAPHw.html',\n",
       "  'review_set_0BwEQU3Ly2Xxt2bF88t6gA.html',\n",
       "  'review_set_Aabr0G7IrxI03NhbsH5FDA.html',\n",
       "  'review_set_LtNhEt9TYEFx5HIhwOxfEA.html',\n",
       "  'review_set_Kimzj_8yzOEw0_2opLBQuw.html',\n",
       "  'review_set_Hg4Ih249vvT4y7Mbr4EiSA.html',\n",
       "  'review_set_ANmMChurdD2V1KpkMf60Rw.html',\n",
       "  'review_set_fD7arrNn6fGs2tvkxBhKag.html',\n",
       "  'review_set_e1wn0goO68z5zbv4vc-7hA.html',\n",
       "  'review_set_fhBGGPyZjNc-7a1iExO9wQ.html',\n",
       "  'review_set_IwjuiOc_Nr2gdc2xZwmhWA.html',\n",
       "  'review_set_2CYnoD8-rOuFz_izIXtYpw.html',\n",
       "  'review_set_-j-59yXHCTNipMNPUqosug.html',\n",
       "  'review_set_zymuRbVoLoJSSNdBDaFBXg.html',\n",
       "  'review_set_Cb3a81XKEgbj0Y3ZZm1Vzw.html',\n",
       "  'review_set_TcNIOS7lRqlpUhrzRNJPUg.html',\n",
       "  'review_set_msbf_UJEqvatXttgFjgU8w.html',\n",
       "  'review_set_huk3l1YLv75Ew9rci3FNcQ.html',\n",
       "  'review_set__iU2irx9ab4VzND_fgZuuw.html',\n",
       "  'review_set_YAh81IcABZNGtfAGAEfTnw.html',\n",
       "  'review_set_4rQlSA8EeMFN8MQTLqKOfQ.html',\n",
       "  'review_set_Qxregt9E0AvTxwc1JyEbFg.html',\n",
       "  'review_set_r2_IuFq01U4V0MjTpRMXIA.html',\n",
       "  'review_set_mmZ-bThGOzL7vADrNzaU3Q.html',\n",
       "  'review_set_DizQXCCLXK6OSx0ZYyXHig.html',\n",
       "  'review_set_hgWMxKhrnOUd3m5nOUBIkA.html',\n",
       "  'review_set_E0NylQlFzTqWZFsbqr9qGQ.html',\n",
       "  'review_set_bjwzcwoddutV2aAEImhFxA.html',\n",
       "  'review_set_No-8JQeMoo2VwA6gEXlrlw.html',\n",
       "  'review_set_8-5u3EaPibtc_96Wyvg5Bg.html',\n",
       "  'review_set_sf8AEjEZ4-U-W9QeDere9w.html',\n",
       "  'review_set_SzK2HBcDTbIBKcoV_iivpw.html',\n",
       "  'review_set_dkEAlWEOAx0ezEvFPwtLcg.html',\n",
       "  'review_set_YLuZokYCj4KJ8WdU5iEraQ.html',\n",
       "  'review_set_mmeKyvhdKHsW-gh0JvLbGA.html',\n",
       "  'review_set_Xx_bvAVlMw8ggBN8gNuugg.html',\n",
       "  'review_set_6lZ-WYajiFtzlzcJbmsZXQ.html',\n",
       "  'review_set_TMhD-CnJSuFGvLVuY3boaw.html',\n",
       "  'review_set_KLNY8ewfiaCuuDtqETW5SQ.html',\n",
       "  'review_set_w0Tg08rY5jl6rycI0qT1NA.html',\n",
       "  'review_set_EYsWr69-lRfZQ2p4mMjNCg.html',\n",
       "  'review_set_7zkvJg3nKMJU3FyJN3LDVA.html',\n",
       "  'review_set_tmxgCiEwue2t3T95OasOdw.html',\n",
       "  'review_set_uZBc32b7MlB1D9f8XFHzYw.html',\n",
       "  'review_set_i8pjqv3GIIKOYZhpd3QBPQ.html',\n",
       "  'review_set_XfQOsMG18UTx6vNukrEu_A.html',\n",
       "  'review_set_IB0h7a9QmXgqXKEjVD7zOA.html',\n",
       "  'review_set_9CwCSvya6h767Wd2OiGbLQ.html',\n",
       "  'review_set_B2PwNmnJdk2bO4um9JGXvA.html',\n",
       "  'review_set_Urylp7lx42wolD_7NawTew.html',\n",
       "  'review_set__nsL3sRM1IWIPLSOc0kK0g.html',\n",
       "  'review_set_VMm_GnvcmsxHTJEjIrGKXQ.html',\n",
       "  'review_set_2BuY5r2GWoai6IAn9FptCg.html',\n",
       "  'review_set_9DuZ_29RfFQdrnSIUEqKhw.html',\n",
       "  'review_set_tF8MkpYjVxiQ_HIZ2ssPeg.html',\n",
       "  'review_set_2Q7_CE63WkTYgsD5dCmVrg.html',\n",
       "  'review_set_FJQ1vHzk6RkVNEf-Du2Tsg.html',\n",
       "  'review_set_kWqSLhTF60YZXgviZsDzcg.html',\n",
       "  'review_set_W7A7BrkYcNl-3TrhYqk07Q.html',\n",
       "  'review_set_crpHa5guEmcESWDkjCgN4w.html',\n",
       "  'review_set_q-VjnkX18yJ6WJG8Mudg_w.html',\n",
       "  'review_set_y8ORUqBslRMvy8XI4obaHw.html',\n",
       "  'review_set_NyGH7-3Jv2sVlza_6hux9g.html',\n",
       "  'review_set_OdALzsIC2o9MCX0WtAgZDw.html',\n",
       "  'review_set_M0i4-YQ03I50t0RimDyP4Q.html',\n",
       "  'review_set_rJr1hnAcqT31nLb7F9Nlnw.html',\n",
       "  'review_set_0HYJuFHALcoYX-i4B6-hYQ.html',\n",
       "  'review_set_BYyibliy88zOO4YQjcBMLA.html',\n",
       "  'review_set_pVfDZlvVgU1PGY7A8T9Jow.html',\n",
       "  'review_set_z6O2P8bZ9SAqPyjVIl_Dyg.html',\n",
       "  'review_set_tKwX_XeMnAyvS_Zpk59i5w.html',\n",
       "  'review_set_MqQUriz6cwRzJYid7pRcRw.html'],\n",
       " ['index.html',\n",
       "  'review_set_cN0DHOTO1VPBMwDow8OzCw.html',\n",
       "  'review_set_Oj6W90G1ZVay9cRl6_uKXg.html',\n",
       "  'review_set_cdJDKOB0Todcqnv6CiOQTg.html',\n",
       "  'review_set_hODnmsq1kK6eA0VLbFQOVw.html',\n",
       "  'review_set_5zk3LxFzijmY2JipVZ7Xdg.html',\n",
       "  'review_set_kUQwaqwxKlScAQNhRx2_2w.html',\n",
       "  'review_set_Daasejc2-RV-MxEKpPjXtA.html',\n",
       "  'review_set_kWcAfYg-60hpIUEUSzWjHQ.html',\n",
       "  'review_set_3TnNC-AMuQ4upCtcgtU49w.html',\n",
       "  'review_set_VHskIuH12SlaguUA83XmYA.html',\n",
       "  'review_set_nS6QENxe6YODNrQ45bpC-A.html',\n",
       "  'review_set_J2yHV9KNwBHD7bnGMANCpw.html',\n",
       "  'review_set_hDzL5ywj0q3CDjXXSvhYAg.html',\n",
       "  'review_set_B9QJToIrPjRAUuPoemMUNg.html',\n",
       "  'review_set_61GpnJGtPC7X1gSCkBbnHw.html',\n",
       "  'review_set_Fruul4wgS8Y_wuUMc7O-Cg.html',\n",
       "  'review_set_ZkBliepoBME9_04bGYnAGw.html',\n",
       "  'review_set_QMI6A2H1N3SwKU69SiASJA.html',\n",
       "  'review_set_DgHXVoAZ4XzbcQMahuJCbw.html',\n",
       "  'review_set_kc5JPu8lkg64yUbrheJxng.html',\n",
       "  'review_set_CE7hNKYS6gIMKv6jK429uQ.html',\n",
       "  'review_set_D2t3yDnG-HI17YOsiiWIuw.html',\n",
       "  'review_set_CzqGem5OaPAk10bQK4bzbg.html',\n",
       "  'review_set_ey1eAQldmOASEuCdFVmTPA.html',\n",
       "  'review_set_ln_sQpaOjtAW5bm5SIp6rw.html',\n",
       "  'review_set_uFMOQUE4TsxEt7ifnblBpg.html',\n",
       "  'review_set_Z2NF_xBF-7RqAfu_4EO9ow.html',\n",
       "  'review_set_v_frjRRrLTm4eJchadhf_g.html',\n",
       "  'review_set_E6MzqMIRocjvwU4gPuEImg.html',\n",
       "  'review_set_JdSF_NucmJZcl1eNlNXZ0Q.html',\n",
       "  'review_set_1QflFDnReuQW7CoXGL9oUA.html',\n",
       "  'review_set_G2hTYYzvlg75BisWSHarLQ.html',\n",
       "  'review_set_66EYUS3iichq-Gn6KjgX2A.html',\n",
       "  'review_set_ccyst2yyDKH8ldrapQPwMg.html',\n",
       "  'review_set_lpW5eMwhe1DF5eGQOAAeng.html',\n",
       "  'review_set_2RNrD93tdvv691deX3vpWQ.html',\n",
       "  'review_set_5UK1KtbB1dHTCo0LNDVslA.html',\n",
       "  'review_set_Tp1vNJZ7CHlo4i9AMbBwYQ.html',\n",
       "  'review_set_sUlrsu49OiV2HaAkCNLhdQ.html',\n",
       "  'review_set_NxaUae0TUcMdg21MX6My4w.html',\n",
       "  'review_set_g4rkl-BorzlT1hIz_-vsew.html',\n",
       "  'review_set_iYMnlr51o9_4Qw-IuWcc4w.html',\n",
       "  'review_set_RJ5XMnAxp0DC4h4dcCECsA.html',\n",
       "  'review_set_ti1bb30WwnkDLuVvpTM6fQ.html',\n",
       "  'review_set_-0uEqc2vw1xXtuI_r1xTNg.html',\n",
       "  'review_set_Z072pEHdos2Gjj3nMdR6uA.html',\n",
       "  'review_set_nK7JeIqdBli3umEhBIh33g.html',\n",
       "  'review_set_Jf5etKG_Sc3Xe2dcIUvWZw.html',\n",
       "  'review_set_gWZOW4-8N5dLixQAlp8iRg.html',\n",
       "  'review_set_TNV-nSWQ_pN6wrMwAgxSkA.html',\n",
       "  'review_set_gyJRkxqN3b0ib_evxt3mqQ.html',\n",
       "  'review_set_5H7AyjxmLGuEjigfXVApZg.html',\n",
       "  'review_set_CDl0tbkfSZS3UHg5_L9gBA.html',\n",
       "  'review_set_BUcTdN-rNE8urCCQuxSOQA.html',\n",
       "  'review_set_qCPyN84ieevYZV9ZbUZXgg.html',\n",
       "  'review_set_HO9ABJoXBv29UTNQrRJoRw.html',\n",
       "  'review_set_QToLw4ijAdErQ906aqr5aw.html',\n",
       "  'review_set_tZkUF9LI9oxtNsZtsbpfVg.html',\n",
       "  'review_set_aXWN4oH8W-MVDchWia084g.html',\n",
       "  'review_set_HO2knNxcc_8lFtgGxN8q2A.html',\n",
       "  'review_set_ApG7b6SZpHTTsX3q6NcXgg.html',\n",
       "  'review_set_0C1qx56oVXIkDvnl4CN8tQ.html',\n",
       "  'review_set_v2xh5qtrlRJSU3OnixJH2g.html',\n",
       "  'review_set_SsNwqMQl0tQrZ5MvBVnceA.html',\n",
       "  'review_set_5XX1w4WbwSlrACQ5vKuLDw.html',\n",
       "  'review_set_8KiTq2GxJm8mpr8kayAp-A.html',\n",
       "  'review_set_H6iQEpsuTy_w6t6thkvOSQ.html',\n",
       "  'review_set_KWZCNN7VTFE4BVbIIW14Nw.html',\n",
       "  'review_set_F56TiSa71Tk4PIQ0HN8oag.html',\n",
       "  'review_set_ZVlAV-bkz-oN7foA5HHWDg.html',\n",
       "  'review_set_o0aGMe0ukXSJgd4QefM6cQ.html',\n",
       "  'review_set_-8iwcXhLnyqbLgvcrJGgaw.html',\n",
       "  'review_set_bclAyinIbsMTVLmlrUzKWw.html',\n",
       "  'review_set_9nNkpfDhSeUbskJSxaHTjg.html',\n",
       "  'review_set_1mOL0ZVy622lo7hc0f1vXQ.html',\n",
       "  'review_set_BmAhw0dGq0K1-TyIqM8SFg.html',\n",
       "  'review_set_nk9lP-iXi7xklwN3VYf6Ew.html',\n",
       "  'review_set_t7zt6AgybRzdPtj7fh_aJg.html',\n",
       "  'review_set_3k9treY8PmsZ42bKmuICgA.html',\n",
       "  'review_set_KtTGZzxV6DSNuCn-6T3NcA.html',\n",
       "  'review_set_panTWmCXuufjRNBerlvONw.html',\n",
       "  'review_set_LrEjsBYlqXdig7x5DFz0ow.html',\n",
       "  'review_set_OCgwii1SvfJO29bdQglgRA.html',\n",
       "  'review_set_JiecNolGPkAMAsgkK3E4MA.html',\n",
       "  'review_set_7BoXrkEw-b98Wi1EaSH3HA.html',\n",
       "  'review_set_DqAKVS9zdjepVOa46yKyVw.html',\n",
       "  'review_set_yednPCeCKT2eQWtv5wd7Lg.html',\n",
       "  'review_set_cicPsia8Wj-DNRkmLbD_xg.html',\n",
       "  'review_set_T5f2zlczcS00W70e_omQ6w.html',\n",
       "  'review_set_EDcZRvERC22Cvw1yi4-VKg.html',\n",
       "  'review_set_Z0hvqoCY2NBK5QEU_1jY-g.html',\n",
       "  'review_set_RQ_sx6lNGVjSTtasK3wlQg.html',\n",
       "  'review_set_e9KXojla4OuVP7qcC5LNsg.html',\n",
       "  'review_set_TBPHp7E-KQpFCsLwY4wamQ.html',\n",
       "  'review_set_5V9i2FuhQ3o8ynYwbubmQg.html',\n",
       "  'review_set_l1hqzJAIYEs3NQYqjH_kxA.html',\n",
       "  'review_set_JgaQFKxW-Bnfc7r5EJZhSQ.html',\n",
       "  'review_set_p-7tiC02sUp1JtQNtPL31g.html',\n",
       "  'review_set_jHkcNN3KZV9QZQRwwRLRXQ.html',\n",
       "  'review_set_inWP6FrTecbCjgbxAxK0dQ.html']]"
      ]
     },
     "execution_count": 257,
     "metadata": {},
     "output_type": "execute_result"
    }
   ],
   "source": [
    "businesses = []\n",
    "for i in categories:\n",
    "    a=[]\n",
    "    response = urllib.request.urlopen(i)\n",
    "    html = response.read().decode()\n",
    "    parser = bs4.BeautifulSoup(html,\"html.parser\")\n",
    "    for l in parser.findAll('a'): # get the reviews by parsing each business in the category\n",
    "        a.append(l.get('href'))\n",
    "    businesses.append(a) #append the reviews to the array businesses\n",
    "businesses"
   ]
  },
  {
   "cell_type": "code",
   "execution_count": 258,
   "metadata": {},
   "outputs": [
    {
     "data": {
      "text/plain": [
       "[['http://mlg.ucd.ie/modules/yalp/index.html',\n",
       "  'http://mlg.ucd.ie/modules/yalp/review_set_eh_tMFEJMZzEM3swCqUNJA.html',\n",
       "  'http://mlg.ucd.ie/modules/yalp/review_set_3ufeMJ2DTf1riU4Bi-gryg.html',\n",
       "  'http://mlg.ucd.ie/modules/yalp/review_set_KjjQGzu0241FbeERM32dpQ.html',\n",
       "  'http://mlg.ucd.ie/modules/yalp/review_set_t8Mo-KiivPqXbFKJmakj4w.html',\n",
       "  'http://mlg.ucd.ie/modules/yalp/review_set_K6yaRzeAygK6Ha_YJnwIbg.html',\n",
       "  'http://mlg.ucd.ie/modules/yalp/review_set_VYaXjNs2Nxp-TKJRH1L25A.html',\n",
       "  'http://mlg.ucd.ie/modules/yalp/review_set_E8t19sCra4kctooZMitsZw.html',\n",
       "  'http://mlg.ucd.ie/modules/yalp/review_set_drjYqhKXgOfW9OYCwQEQfQ.html',\n",
       "  'http://mlg.ucd.ie/modules/yalp/review_set_6q3D1RTChNltJviipr1CPA.html',\n",
       "  'http://mlg.ucd.ie/modules/yalp/review_set_zfxjGCMSY6CRTrcVtpmJYA.html',\n",
       "  'http://mlg.ucd.ie/modules/yalp/review_set_CGv-5oD6zM64pfbcOnVY1w.html',\n",
       "  'http://mlg.ucd.ie/modules/yalp/review_set_sLQUMUETOruStVknkxxEtQ.html',\n",
       "  'http://mlg.ucd.ie/modules/yalp/review_set_nxXIBbN1yqSQLSD6Dv-D_w.html',\n",
       "  'http://mlg.ucd.ie/modules/yalp/review_set_JFpD5UJjopEm4BvFtmNLjw.html',\n",
       "  'http://mlg.ucd.ie/modules/yalp/review_set_vEwnnC_Qwuk0KbcnkoTbyw.html',\n",
       "  'http://mlg.ucd.ie/modules/yalp/review_set_RHyihD5lZIXXXwxFpPphmw.html',\n",
       "  'http://mlg.ucd.ie/modules/yalp/review_set_XAw6mpKbTAgjMdxCFQ4UxA.html',\n",
       "  'http://mlg.ucd.ie/modules/yalp/review_set_0Z5501L4Jh2KBIvMHzFgtg.html',\n",
       "  'http://mlg.ucd.ie/modules/yalp/review_set_DmFO4PabO2CoCOStOBqkAg.html',\n",
       "  'http://mlg.ucd.ie/modules/yalp/review_set_319J-Mc0VAoPw8UrbtARVQ.html',\n",
       "  'http://mlg.ucd.ie/modules/yalp/review_set_FVjnVMn1zuo_yRa9Xxl4Xw.html',\n",
       "  'http://mlg.ucd.ie/modules/yalp/review_set_bmBlZrRCSF9EQ1GZbn44uA.html',\n",
       "  'http://mlg.ucd.ie/modules/yalp/review_set_BmJdcOr-XOyM_Otc3wMraQ.html',\n",
       "  'http://mlg.ucd.ie/modules/yalp/review_set_d8SWJ-jqoQosKans_IF_9A.html',\n",
       "  'http://mlg.ucd.ie/modules/yalp/review_set_MdtsA9oE2aFEYLHqmKfp9w.html',\n",
       "  'http://mlg.ucd.ie/modules/yalp/review_set_XxwrhGSDOZbjGkuSueDSpQ.html',\n",
       "  'http://mlg.ucd.ie/modules/yalp/review_set_Kk-dEqWvY3auFM7AOAs8eg.html',\n",
       "  'http://mlg.ucd.ie/modules/yalp/review_set_ACukMRSxEraQmQqjWsvKPQ.html',\n",
       "  'http://mlg.ucd.ie/modules/yalp/review_set_G0pxLBptAsVyJHfGQMIEJA.html',\n",
       "  'http://mlg.ucd.ie/modules/yalp/review_set_O9SiaLm_Ql0FKvVa2Ua5xA.html',\n",
       "  'http://mlg.ucd.ie/modules/yalp/review_set_-f0zCpKvtNniDhLASWcxcw.html',\n",
       "  'http://mlg.ucd.ie/modules/yalp/review_set_Q8Yn4ihQK45PMSrfiX2KSQ.html',\n",
       "  'http://mlg.ucd.ie/modules/yalp/review_set_-hq1qB-TIOUl13gKMiGQMA.html',\n",
       "  'http://mlg.ucd.ie/modules/yalp/review_set_xOBGRcwixDTyUJJmGYIxDw.html',\n",
       "  'http://mlg.ucd.ie/modules/yalp/review_set_pKOy7-pP-BdSVcCrtQo_ww.html',\n",
       "  'http://mlg.ucd.ie/modules/yalp/review_set_BBIJ5hPG7nIY7CFxcJnKVQ.html',\n",
       "  'http://mlg.ucd.ie/modules/yalp/review_set_MaTxNkWK2F6zaDG8mi9hbw.html',\n",
       "  'http://mlg.ucd.ie/modules/yalp/review_set_CXHujlzd-_2QFPw53Z_LZQ.html',\n",
       "  'http://mlg.ucd.ie/modules/yalp/review_set_lBVg3le33TxYMKKO-4v8PQ.html',\n",
       "  'http://mlg.ucd.ie/modules/yalp/review_set_5ZBaDWQD5nAw0j1XwOvf3w.html',\n",
       "  'http://mlg.ucd.ie/modules/yalp/review_set_6zRVeLNVJOJCuYDdY_lsgQ.html',\n",
       "  'http://mlg.ucd.ie/modules/yalp/review_set_FZxWRbl8m7hal19Gsc8BKA.html',\n",
       "  'http://mlg.ucd.ie/modules/yalp/review_set_momwgw47Pkkbz9ciHQLpsw.html',\n",
       "  'http://mlg.ucd.ie/modules/yalp/review_set_5lsoilXZazQhacUoELPdtA.html',\n",
       "  'http://mlg.ucd.ie/modules/yalp/review_set_tYAOVeGuGKk78TyzQzVcpg.html',\n",
       "  'http://mlg.ucd.ie/modules/yalp/review_set_XB4NyBeDgPYmmfK_23kl7w.html',\n",
       "  'http://mlg.ucd.ie/modules/yalp/review_set_6kLh-h9WffSJRdAKBkhOrg.html',\n",
       "  'http://mlg.ucd.ie/modules/yalp/review_set_p0Ssn1VF_YtZzdmf1sQJuQ.html',\n",
       "  'http://mlg.ucd.ie/modules/yalp/review_set_qFlM7c2kBimRLCF_VJ8Qhw.html',\n",
       "  'http://mlg.ucd.ie/modules/yalp/review_set_PQOaNdbwkKQ81eTESzG1FA.html',\n",
       "  'http://mlg.ucd.ie/modules/yalp/review_set_0010xnFOCyJZeMAuTtiv5w.html',\n",
       "  'http://mlg.ucd.ie/modules/yalp/review_set_quNsF2gdqKulu5D6pvZI0w.html',\n",
       "  'http://mlg.ucd.ie/modules/yalp/review_set_gJud4JjLUyEwtUSKslsnjg.html',\n",
       "  'http://mlg.ucd.ie/modules/yalp/review_set_91hRbV81f0lA84H9FLnt2w.html',\n",
       "  'http://mlg.ucd.ie/modules/yalp/review_set_Ubod0uoQANXIr7LvpydR_A.html',\n",
       "  'http://mlg.ucd.ie/modules/yalp/review_set_3WAqlDxxhR8JjEOmU2E0Rg.html',\n",
       "  'http://mlg.ucd.ie/modules/yalp/review_set_R9IC8oycIfrPTYdd9FHhig.html',\n",
       "  'http://mlg.ucd.ie/modules/yalp/review_set_xQlQb8yzYO4O5F39OuR7gA.html',\n",
       "  'http://mlg.ucd.ie/modules/yalp/review_set_fj8L3IWG9XP_RcVEbI-uzw.html',\n",
       "  'http://mlg.ucd.ie/modules/yalp/review_set_VVG7z0fNQ2Ok0IvI8WBK1A.html',\n",
       "  'http://mlg.ucd.ie/modules/yalp/review_set__FJjh7stbxPP7Tz7HzyznQ.html',\n",
       "  'http://mlg.ucd.ie/modules/yalp/review_set_pelIj-giNaZe-nfoNfYHgw.html',\n",
       "  'http://mlg.ucd.ie/modules/yalp/review_set_PuN81O1J9Ka6XxsldtXFtA.html',\n",
       "  'http://mlg.ucd.ie/modules/yalp/review_set_4ukcDkudwIShJHpR5l5JqA.html',\n",
       "  'http://mlg.ucd.ie/modules/yalp/review_set_-ceYX-NI-iqcLOX9tlIcEw.html',\n",
       "  'http://mlg.ucd.ie/modules/yalp/review_set_zY7c7GNmP4o2dCWvpNaj8A.html',\n",
       "  'http://mlg.ucd.ie/modules/yalp/review_set_T-p14DRsdJ2luGX3ojztLQ.html',\n",
       "  'http://mlg.ucd.ie/modules/yalp/review_set_fyqjibJc4jZSiNVDlaZ2Ug.html',\n",
       "  'http://mlg.ucd.ie/modules/yalp/review_set_pvfJAey68z12gBwfSIP7Vw.html',\n",
       "  'http://mlg.ucd.ie/modules/yalp/review_set_S90RSdPuh2SxSDJFj574eQ.html',\n",
       "  'http://mlg.ucd.ie/modules/yalp/review_set_SIYpdFCOWEJLRnP2WGjbGg.html',\n",
       "  'http://mlg.ucd.ie/modules/yalp/review_set_EtdqNjDFx0Lm8h_0mCdfVg.html',\n",
       "  'http://mlg.ucd.ie/modules/yalp/review_set_IYsyXxSEB4gCEO7zG_YB4g.html',\n",
       "  'http://mlg.ucd.ie/modules/yalp/review_set_4bed2egQTt4FMu3z9SEshQ.html',\n",
       "  'http://mlg.ucd.ie/modules/yalp/review_set_ONC6M3lNXfMbEjuSLc1slA.html',\n",
       "  'http://mlg.ucd.ie/modules/yalp/review_set_l7ajNVtV_JmXOop3h0gpKw.html',\n",
       "  'http://mlg.ucd.ie/modules/yalp/review_set_inuZzNhcBBv-hPshzuXKaQ.html',\n",
       "  'http://mlg.ucd.ie/modules/yalp/review_set_LR950RCdjXZSBTL0uqx0fA.html',\n",
       "  'http://mlg.ucd.ie/modules/yalp/review_set_vfVy-2M2K5xSl0g2dpWBZA.html',\n",
       "  'http://mlg.ucd.ie/modules/yalp/review_set_ChspW4GPbl1B3GEhLSRIDQ.html',\n",
       "  'http://mlg.ucd.ie/modules/yalp/review_set_EI1JrGwgVzgX_1V9wGiuOg.html',\n",
       "  'http://mlg.ucd.ie/modules/yalp/review_set_7GKEZbS-xFmCxBSnX8ttNg.html',\n",
       "  'http://mlg.ucd.ie/modules/yalp/review_set_RD-PqIwfJdprEnPwS9GS8Q.html',\n",
       "  'http://mlg.ucd.ie/modules/yalp/review_set_n90YPt4GBGHESgGPCBES_A.html',\n",
       "  'http://mlg.ucd.ie/modules/yalp/review_set_d5o3VFGMw_BFLPRwNrRkTA.html',\n",
       "  'http://mlg.ucd.ie/modules/yalp/review_set_6xVjiYjoMdeZ4lLb5apQsg.html',\n",
       "  'http://mlg.ucd.ie/modules/yalp/review_set_L8QQDrWff_uPSzU45gcSvQ.html',\n",
       "  'http://mlg.ucd.ie/modules/yalp/review_set_x_1BhmQNn37BShhqlfNRmQ.html',\n",
       "  'http://mlg.ucd.ie/modules/yalp/review_set_rneYUjMuC8JJIFhJpnG_dQ.html',\n",
       "  'http://mlg.ucd.ie/modules/yalp/review_set__SleE-VoYLE4IKOdZikHIg.html',\n",
       "  'http://mlg.ucd.ie/modules/yalp/review_set_ovF4z49i3LbU4iSxgCmopQ.html',\n",
       "  'http://mlg.ucd.ie/modules/yalp/review_set_dd4PG9yjGOiv4EQG7D5BTg.html',\n",
       "  'http://mlg.ucd.ie/modules/yalp/review_set_Po8dR8oj4INZaNRe2-TLQw.html',\n",
       "  'http://mlg.ucd.ie/modules/yalp/review_set_AxoD6TJc_tIJUIXYiBFjAw.html',\n",
       "  'http://mlg.ucd.ie/modules/yalp/review_set_xuZ_5uEAerrmu7r_NxGAZQ.html',\n",
       "  'http://mlg.ucd.ie/modules/yalp/review_set_YvgOq2avx79tLXw6s_eBSg.html',\n",
       "  'http://mlg.ucd.ie/modules/yalp/review_set_LCKSewKJPGvCeyO6mw5abw.html',\n",
       "  'http://mlg.ucd.ie/modules/yalp/review_set_GpfrnYOBZcH2XsHcbNflbw.html',\n",
       "  'http://mlg.ucd.ie/modules/yalp/review_set_uTC7YbsMJJnTFQk7nUorOA.html',\n",
       "  'http://mlg.ucd.ie/modules/yalp/review_set_PX-PYOxCnwLJogxktXhsBA.html',\n",
       "  'http://mlg.ucd.ie/modules/yalp/review_set_YSo6YUJiXbST0ZFGrpxuBg.html',\n",
       "  'http://mlg.ucd.ie/modules/yalp/review_set_K1t5YQoC1G7lIxWvNpCxng.html',\n",
       "  'http://mlg.ucd.ie/modules/yalp/review_set_sEE_H7L-qjrtoHjwWiqpbQ.html',\n",
       "  'http://mlg.ucd.ie/modules/yalp/review_set_5Xjd6NJv-thth9ec8Cwsjg.html',\n",
       "  'http://mlg.ucd.ie/modules/yalp/review_set_h9PXbwY6E3LINCYan2zcsg.html',\n",
       "  'http://mlg.ucd.ie/modules/yalp/review_set_fSw3ztKOSNhEw36gr4MxYQ.html',\n",
       "  'http://mlg.ucd.ie/modules/yalp/review_set_GKtVASxg9ZafsNEQnFsipQ.html',\n",
       "  'http://mlg.ucd.ie/modules/yalp/review_set_yNUQ_B_xz_HGcWXQYMRZwg.html',\n",
       "  'http://mlg.ucd.ie/modules/yalp/review_set_u8HKpaTN8M1hzKdonx50kA.html',\n",
       "  'http://mlg.ucd.ie/modules/yalp/review_set_urGVX53RUo01fxKQnVYZFQ.html',\n",
       "  'http://mlg.ucd.ie/modules/yalp/review_set_o6N9CoOhiM6DG33VlHamLQ.html',\n",
       "  'http://mlg.ucd.ie/modules/yalp/review_set_jF2__R8dk6wrfELxHx5LOA.html',\n",
       "  'http://mlg.ucd.ie/modules/yalp/review_set_V-BdZIQR0n08aSBNPXtOjQ.html',\n",
       "  'http://mlg.ucd.ie/modules/yalp/review_set_RBFq3wAefh7SLTS-gE01kg.html',\n",
       "  'http://mlg.ucd.ie/modules/yalp/review_set_vUsPxHrZqRzHkCj3RPzjFQ.html',\n",
       "  'http://mlg.ucd.ie/modules/yalp/review_set_BBfY4zTgtg9OdCigiQohRQ.html',\n",
       "  'http://mlg.ucd.ie/modules/yalp/review_set__ZBzbuRsbwLwHZ0wUcYkCQ.html',\n",
       "  'http://mlg.ucd.ie/modules/yalp/review_set_68DBEQq7I0lqlY9bMQdb-Q.html',\n",
       "  'http://mlg.ucd.ie/modules/yalp/review_set_CuCG4O8bYfGuRkET0NIUiA.html',\n",
       "  'http://mlg.ucd.ie/modules/yalp/review_set_BnYadh_BSwBV4z-acodXNQ.html',\n",
       "  'http://mlg.ucd.ie/modules/yalp/review_set_Rmyqn_pUyFpjPhwaIkhJjw.html',\n",
       "  'http://mlg.ucd.ie/modules/yalp/review_set_qkVPytomhxm5g0dMEH2xpQ.html',\n",
       "  'http://mlg.ucd.ie/modules/yalp/review_set_ckbxCijGN-zUK_QmCPoGcQ.html',\n",
       "  'http://mlg.ucd.ie/modules/yalp/review_set_cKhtfT5MkU8aQ6_RVhZsRQ.html',\n",
       "  'http://mlg.ucd.ie/modules/yalp/review_set_nkhLZJXqIwYKsldbRFAqaQ.html',\n",
       "  'http://mlg.ucd.ie/modules/yalp/review_set_KgFmLr-HZeUZc7nsjMkSRw.html',\n",
       "  'http://mlg.ucd.ie/modules/yalp/review_set_lAi7njJ_vqL9bt1CCdF7HQ.html',\n",
       "  'http://mlg.ucd.ie/modules/yalp/review_set_nz_K4zFYAfFXxqMGUyiadg.html',\n",
       "  'http://mlg.ucd.ie/modules/yalp/review_set_fZQ3QjGMRELHG9f0WnN8vw.html',\n",
       "  'http://mlg.ucd.ie/modules/yalp/review_set_V6bNyyJqc7AYSXGHcrd6IA.html',\n",
       "  'http://mlg.ucd.ie/modules/yalp/review_set_u_iVzxxSAc--cDLtOf2HZA.html',\n",
       "  'http://mlg.ucd.ie/modules/yalp/review_set_PEeZMDZEr_P01Kub-ftluw.html',\n",
       "  'http://mlg.ucd.ie/modules/yalp/review_set_vP-TuPr7fZ107L8Z4JommQ.html',\n",
       "  'http://mlg.ucd.ie/modules/yalp/review_set_Bj2JoTfsqjPyIasM2lvtGg.html',\n",
       "  'http://mlg.ucd.ie/modules/yalp/review_set_j_-AlmCecYEtIl-mjZaKqA.html',\n",
       "  'http://mlg.ucd.ie/modules/yalp/review_set_JpheWMtV0VLqoNngrxzlBw.html',\n",
       "  'http://mlg.ucd.ie/modules/yalp/review_set_tUqg3_lvE4tAkKSOZdof1g.html',\n",
       "  'http://mlg.ucd.ie/modules/yalp/review_set_EQKvMqW6TgbWiHzwS-HH-w.html',\n",
       "  'http://mlg.ucd.ie/modules/yalp/review_set_VAC5qtRpODB4S6aO2GkEpg.html',\n",
       "  'http://mlg.ucd.ie/modules/yalp/review_set_2cWINwghYpMerikeeu5k0g.html',\n",
       "  'http://mlg.ucd.ie/modules/yalp/review_set_rai7E_s43a3-oXKJYXHhIw.html',\n",
       "  'http://mlg.ucd.ie/modules/yalp/review_set_TxX5L1gvSUtz2zmCbOvS3w.html',\n",
       "  'http://mlg.ucd.ie/modules/yalp/review_set_P8UM0ChL_EikLini6Alv6w.html',\n",
       "  'http://mlg.ucd.ie/modules/yalp/review_set_kOvxt1mTPZXdxBrIpD2fpw.html',\n",
       "  'http://mlg.ucd.ie/modules/yalp/review_set_Bhqb_2tRCcgesaxCuQlkow.html',\n",
       "  'http://mlg.ucd.ie/modules/yalp/review_set_g6VqLCFfd4avtChEt-vMlw.html',\n",
       "  'http://mlg.ucd.ie/modules/yalp/review_set_fYJ8Qh43y3XARmpUqSIYKg.html',\n",
       "  'http://mlg.ucd.ie/modules/yalp/review_set_yfkVdJH71Bj-Lil3cWfW4w.html',\n",
       "  'http://mlg.ucd.ie/modules/yalp/review_set_-XFoc63x6gWzR_HQJBz_hA.html',\n",
       "  'http://mlg.ucd.ie/modules/yalp/review_set_w1MY8o5LDRJ13k9vT3V8UA.html',\n",
       "  'http://mlg.ucd.ie/modules/yalp/review_set_qpSUknlPxSLmGnvfEaw4bA.html',\n",
       "  'http://mlg.ucd.ie/modules/yalp/review_set_HFFN5YvKTb6ERYYLS3YnoQ.html',\n",
       "  'http://mlg.ucd.ie/modules/yalp/review_set_C7IzXAlvlPShszL-ERZivQ.html',\n",
       "  'http://mlg.ucd.ie/modules/yalp/review_set_K80anqDnRDkGWLWwgpTfag.html',\n",
       "  'http://mlg.ucd.ie/modules/yalp/review_set_JNQ7bk8gZup81fFT_awy7Q.html',\n",
       "  'http://mlg.ucd.ie/modules/yalp/review_set_VxLMDS0Tb8CdD4jag6B2lQ.html',\n",
       "  'http://mlg.ucd.ie/modules/yalp/review_set_r83fWVZq4q8G6EwdtCopkg.html',\n",
       "  'http://mlg.ucd.ie/modules/yalp/review_set_DvbHpUGt7DfuZQhJ7UJvdQ.html',\n",
       "  'http://mlg.ucd.ie/modules/yalp/review_set_RPBQD0YUtWrv9bRPoOgb0g.html'],\n",
       " ['http://mlg.ucd.ie/modules/yalp/index.html',\n",
       "  'http://mlg.ucd.ie/modules/yalp/review_set_ei_4xj1zfVEczaJV7ZdsNA.html',\n",
       "  'http://mlg.ucd.ie/modules/yalp/review_set_TbsSnPjQsmwmszV95uLJ4w.html',\n",
       "  'http://mlg.ucd.ie/modules/yalp/review_set_25Qa4NoliJ75F_6u3nqZhw.html',\n",
       "  'http://mlg.ucd.ie/modules/yalp/review_set_ip-0MsQaogm18KQhhnTqTQ.html',\n",
       "  'http://mlg.ucd.ie/modules/yalp/review_set_63lkQ2JyOIYWg2b-vMkrrw.html',\n",
       "  'http://mlg.ucd.ie/modules/yalp/review_set_RSTitmG9qW4LYXQBfNNqpQ.html',\n",
       "  'http://mlg.ucd.ie/modules/yalp/review_set_hM4mJ29nMMuauqAUStcy8g.html',\n",
       "  'http://mlg.ucd.ie/modules/yalp/review_set_WJZY8-AVQMhbp84se7H8Bw.html',\n",
       "  'http://mlg.ucd.ie/modules/yalp/review_set_9xcEdoY2D2O0P18vGsCDMw.html',\n",
       "  'http://mlg.ucd.ie/modules/yalp/review_set_31cCwS3xzuz89qS__Pw7bg.html',\n",
       "  'http://mlg.ucd.ie/modules/yalp/review_set_uIrEaKOgWk0OOlolxwU1PA.html',\n",
       "  'http://mlg.ucd.ie/modules/yalp/review_set_60VqleCpYQWhhUAq3wOh2A.html',\n",
       "  'http://mlg.ucd.ie/modules/yalp/review_set_vbFlzg9VPC8ebE67N_ZGAw.html',\n",
       "  'http://mlg.ucd.ie/modules/yalp/review_set_b3Kn9ucwRGbFqJcQV0ipRA.html',\n",
       "  'http://mlg.ucd.ie/modules/yalp/review_set_Jx0P0n25MT-jZFG_P0cVqQ.html',\n",
       "  'http://mlg.ucd.ie/modules/yalp/review_set_JPrnP6WFNaS-aN4mt0tlwQ.html',\n",
       "  'http://mlg.ucd.ie/modules/yalp/review_set_z0J5ulstB5vqVPxMoaA2YA.html',\n",
       "  'http://mlg.ucd.ie/modules/yalp/review_set_pNNRuhaLOReqqyUeAztp1g.html',\n",
       "  'http://mlg.ucd.ie/modules/yalp/review_set_Nu2CMMUeGH6sSzlmwnFY1Q.html',\n",
       "  'http://mlg.ucd.ie/modules/yalp/review_set_MAomqpzFEJWSB2bOFA-IlA.html',\n",
       "  'http://mlg.ucd.ie/modules/yalp/review_set_WU0rArtd0GcTt8ndKzeKaw.html',\n",
       "  'http://mlg.ucd.ie/modules/yalp/review_set_eTAK7JUhLG105DWMW4qeYw.html',\n",
       "  'http://mlg.ucd.ie/modules/yalp/review_set_0BjG7BImkDwdvQqKhQLuzw.html',\n",
       "  'http://mlg.ucd.ie/modules/yalp/review_set_kb6WPs0koeiyPy-4S7iRIA.html',\n",
       "  'http://mlg.ucd.ie/modules/yalp/review_set_JoPLZ8vIwuk-GohDRE3Rxw.html',\n",
       "  'http://mlg.ucd.ie/modules/yalp/review_set_I4Oi_pyZBSZtAVjZHoTFWg.html',\n",
       "  'http://mlg.ucd.ie/modules/yalp/review_set_G91EuQd7s2smunA6B_UWRw.html',\n",
       "  'http://mlg.ucd.ie/modules/yalp/review_set_dgbojHKoThh0DVZeEtq5qw.html',\n",
       "  'http://mlg.ucd.ie/modules/yalp/review_set_nW0vxbtTOIUa41nJRpORww.html',\n",
       "  'http://mlg.ucd.ie/modules/yalp/review_set_CtsAPh-v_cZZzU0URzogyQ.html',\n",
       "  'http://mlg.ucd.ie/modules/yalp/review_set_U19IqPyCr7gM-Er2ET734Q.html',\n",
       "  'http://mlg.ucd.ie/modules/yalp/review_set_7l2u_eISbJZ2gOyjUCkAMQ.html',\n",
       "  'http://mlg.ucd.ie/modules/yalp/review_set_u6nZOYK-LhOKFIuoizQEvg.html',\n",
       "  'http://mlg.ucd.ie/modules/yalp/review_set_9NeaMCrJapb5mSXAx3AiaA.html',\n",
       "  'http://mlg.ucd.ie/modules/yalp/review_set_3z01T4QdVAMWvFNDrg7Mnw.html',\n",
       "  'http://mlg.ucd.ie/modules/yalp/review_set_uDY-aHcgVFv4Xxov9QHaaw.html',\n",
       "  'http://mlg.ucd.ie/modules/yalp/review_set_mamLM556dasQuFWszYd4qQ.html',\n",
       "  'http://mlg.ucd.ie/modules/yalp/review_set_zGDYsZLATXebAKVLVCEKlg.html',\n",
       "  'http://mlg.ucd.ie/modules/yalp/review_set_LHrksD6vqQW5PY4lRwJSDQ.html',\n",
       "  'http://mlg.ucd.ie/modules/yalp/review_set_a5Fx2JdwwIiR72Wmmep2rA.html',\n",
       "  'http://mlg.ucd.ie/modules/yalp/review_set_NsLiXuHzy6DMGu2N8WtX1w.html',\n",
       "  'http://mlg.ucd.ie/modules/yalp/review_set_yCJvVJirvdKg1JucqKepDQ.html',\n",
       "  'http://mlg.ucd.ie/modules/yalp/review_set_nVmVhzPm0CDWemrrPKy4sQ.html',\n",
       "  'http://mlg.ucd.ie/modules/yalp/review_set_7aQMQlWraYpMzwhqVwfhnQ.html',\n",
       "  'http://mlg.ucd.ie/modules/yalp/review_set_8zBhtpDGERGiHU48BWQVDQ.html',\n",
       "  'http://mlg.ucd.ie/modules/yalp/review_set_xa1x9RxP8ESdvmj6mMYwww.html',\n",
       "  'http://mlg.ucd.ie/modules/yalp/review_set_YYapxL_zuPZ2C8t0vgcHqw.html',\n",
       "  'http://mlg.ucd.ie/modules/yalp/review_set_IzC1oXHT_TxYej_6YTfBnA.html',\n",
       "  'http://mlg.ucd.ie/modules/yalp/review_set_LQlrK5vf2Sh09RJVwiBY3g.html',\n",
       "  'http://mlg.ucd.ie/modules/yalp/review_set_AKuHtg-xNTtMLEL35tbWVA.html',\n",
       "  'http://mlg.ucd.ie/modules/yalp/review_set_V5-Ym9xgjUl-KJo6IzAPHw.html',\n",
       "  'http://mlg.ucd.ie/modules/yalp/review_set_0BwEQU3Ly2Xxt2bF88t6gA.html',\n",
       "  'http://mlg.ucd.ie/modules/yalp/review_set_Aabr0G7IrxI03NhbsH5FDA.html',\n",
       "  'http://mlg.ucd.ie/modules/yalp/review_set_LtNhEt9TYEFx5HIhwOxfEA.html',\n",
       "  'http://mlg.ucd.ie/modules/yalp/review_set_Kimzj_8yzOEw0_2opLBQuw.html',\n",
       "  'http://mlg.ucd.ie/modules/yalp/review_set_Hg4Ih249vvT4y7Mbr4EiSA.html',\n",
       "  'http://mlg.ucd.ie/modules/yalp/review_set_ANmMChurdD2V1KpkMf60Rw.html',\n",
       "  'http://mlg.ucd.ie/modules/yalp/review_set_fD7arrNn6fGs2tvkxBhKag.html',\n",
       "  'http://mlg.ucd.ie/modules/yalp/review_set_e1wn0goO68z5zbv4vc-7hA.html',\n",
       "  'http://mlg.ucd.ie/modules/yalp/review_set_fhBGGPyZjNc-7a1iExO9wQ.html',\n",
       "  'http://mlg.ucd.ie/modules/yalp/review_set_IwjuiOc_Nr2gdc2xZwmhWA.html',\n",
       "  'http://mlg.ucd.ie/modules/yalp/review_set_2CYnoD8-rOuFz_izIXtYpw.html',\n",
       "  'http://mlg.ucd.ie/modules/yalp/review_set_-j-59yXHCTNipMNPUqosug.html',\n",
       "  'http://mlg.ucd.ie/modules/yalp/review_set_zymuRbVoLoJSSNdBDaFBXg.html',\n",
       "  'http://mlg.ucd.ie/modules/yalp/review_set_Cb3a81XKEgbj0Y3ZZm1Vzw.html',\n",
       "  'http://mlg.ucd.ie/modules/yalp/review_set_TcNIOS7lRqlpUhrzRNJPUg.html',\n",
       "  'http://mlg.ucd.ie/modules/yalp/review_set_msbf_UJEqvatXttgFjgU8w.html',\n",
       "  'http://mlg.ucd.ie/modules/yalp/review_set_huk3l1YLv75Ew9rci3FNcQ.html',\n",
       "  'http://mlg.ucd.ie/modules/yalp/review_set__iU2irx9ab4VzND_fgZuuw.html',\n",
       "  'http://mlg.ucd.ie/modules/yalp/review_set_YAh81IcABZNGtfAGAEfTnw.html',\n",
       "  'http://mlg.ucd.ie/modules/yalp/review_set_4rQlSA8EeMFN8MQTLqKOfQ.html',\n",
       "  'http://mlg.ucd.ie/modules/yalp/review_set_Qxregt9E0AvTxwc1JyEbFg.html',\n",
       "  'http://mlg.ucd.ie/modules/yalp/review_set_r2_IuFq01U4V0MjTpRMXIA.html',\n",
       "  'http://mlg.ucd.ie/modules/yalp/review_set_mmZ-bThGOzL7vADrNzaU3Q.html',\n",
       "  'http://mlg.ucd.ie/modules/yalp/review_set_DizQXCCLXK6OSx0ZYyXHig.html',\n",
       "  'http://mlg.ucd.ie/modules/yalp/review_set_hgWMxKhrnOUd3m5nOUBIkA.html',\n",
       "  'http://mlg.ucd.ie/modules/yalp/review_set_E0NylQlFzTqWZFsbqr9qGQ.html',\n",
       "  'http://mlg.ucd.ie/modules/yalp/review_set_bjwzcwoddutV2aAEImhFxA.html',\n",
       "  'http://mlg.ucd.ie/modules/yalp/review_set_No-8JQeMoo2VwA6gEXlrlw.html',\n",
       "  'http://mlg.ucd.ie/modules/yalp/review_set_8-5u3EaPibtc_96Wyvg5Bg.html',\n",
       "  'http://mlg.ucd.ie/modules/yalp/review_set_sf8AEjEZ4-U-W9QeDere9w.html',\n",
       "  'http://mlg.ucd.ie/modules/yalp/review_set_SzK2HBcDTbIBKcoV_iivpw.html',\n",
       "  'http://mlg.ucd.ie/modules/yalp/review_set_dkEAlWEOAx0ezEvFPwtLcg.html',\n",
       "  'http://mlg.ucd.ie/modules/yalp/review_set_YLuZokYCj4KJ8WdU5iEraQ.html',\n",
       "  'http://mlg.ucd.ie/modules/yalp/review_set_mmeKyvhdKHsW-gh0JvLbGA.html',\n",
       "  'http://mlg.ucd.ie/modules/yalp/review_set_Xx_bvAVlMw8ggBN8gNuugg.html',\n",
       "  'http://mlg.ucd.ie/modules/yalp/review_set_6lZ-WYajiFtzlzcJbmsZXQ.html',\n",
       "  'http://mlg.ucd.ie/modules/yalp/review_set_TMhD-CnJSuFGvLVuY3boaw.html',\n",
       "  'http://mlg.ucd.ie/modules/yalp/review_set_KLNY8ewfiaCuuDtqETW5SQ.html',\n",
       "  'http://mlg.ucd.ie/modules/yalp/review_set_w0Tg08rY5jl6rycI0qT1NA.html',\n",
       "  'http://mlg.ucd.ie/modules/yalp/review_set_EYsWr69-lRfZQ2p4mMjNCg.html',\n",
       "  'http://mlg.ucd.ie/modules/yalp/review_set_7zkvJg3nKMJU3FyJN3LDVA.html',\n",
       "  'http://mlg.ucd.ie/modules/yalp/review_set_tmxgCiEwue2t3T95OasOdw.html',\n",
       "  'http://mlg.ucd.ie/modules/yalp/review_set_uZBc32b7MlB1D9f8XFHzYw.html',\n",
       "  'http://mlg.ucd.ie/modules/yalp/review_set_i8pjqv3GIIKOYZhpd3QBPQ.html',\n",
       "  'http://mlg.ucd.ie/modules/yalp/review_set_XfQOsMG18UTx6vNukrEu_A.html',\n",
       "  'http://mlg.ucd.ie/modules/yalp/review_set_IB0h7a9QmXgqXKEjVD7zOA.html',\n",
       "  'http://mlg.ucd.ie/modules/yalp/review_set_9CwCSvya6h767Wd2OiGbLQ.html',\n",
       "  'http://mlg.ucd.ie/modules/yalp/review_set_B2PwNmnJdk2bO4um9JGXvA.html',\n",
       "  'http://mlg.ucd.ie/modules/yalp/review_set_Urylp7lx42wolD_7NawTew.html',\n",
       "  'http://mlg.ucd.ie/modules/yalp/review_set__nsL3sRM1IWIPLSOc0kK0g.html',\n",
       "  'http://mlg.ucd.ie/modules/yalp/review_set_VMm_GnvcmsxHTJEjIrGKXQ.html',\n",
       "  'http://mlg.ucd.ie/modules/yalp/review_set_2BuY5r2GWoai6IAn9FptCg.html',\n",
       "  'http://mlg.ucd.ie/modules/yalp/review_set_9DuZ_29RfFQdrnSIUEqKhw.html',\n",
       "  'http://mlg.ucd.ie/modules/yalp/review_set_tF8MkpYjVxiQ_HIZ2ssPeg.html',\n",
       "  'http://mlg.ucd.ie/modules/yalp/review_set_2Q7_CE63WkTYgsD5dCmVrg.html',\n",
       "  'http://mlg.ucd.ie/modules/yalp/review_set_FJQ1vHzk6RkVNEf-Du2Tsg.html',\n",
       "  'http://mlg.ucd.ie/modules/yalp/review_set_kWqSLhTF60YZXgviZsDzcg.html',\n",
       "  'http://mlg.ucd.ie/modules/yalp/review_set_W7A7BrkYcNl-3TrhYqk07Q.html',\n",
       "  'http://mlg.ucd.ie/modules/yalp/review_set_crpHa5guEmcESWDkjCgN4w.html',\n",
       "  'http://mlg.ucd.ie/modules/yalp/review_set_q-VjnkX18yJ6WJG8Mudg_w.html',\n",
       "  'http://mlg.ucd.ie/modules/yalp/review_set_y8ORUqBslRMvy8XI4obaHw.html',\n",
       "  'http://mlg.ucd.ie/modules/yalp/review_set_NyGH7-3Jv2sVlza_6hux9g.html',\n",
       "  'http://mlg.ucd.ie/modules/yalp/review_set_OdALzsIC2o9MCX0WtAgZDw.html',\n",
       "  'http://mlg.ucd.ie/modules/yalp/review_set_M0i4-YQ03I50t0RimDyP4Q.html',\n",
       "  'http://mlg.ucd.ie/modules/yalp/review_set_rJr1hnAcqT31nLb7F9Nlnw.html',\n",
       "  'http://mlg.ucd.ie/modules/yalp/review_set_0HYJuFHALcoYX-i4B6-hYQ.html',\n",
       "  'http://mlg.ucd.ie/modules/yalp/review_set_BYyibliy88zOO4YQjcBMLA.html',\n",
       "  'http://mlg.ucd.ie/modules/yalp/review_set_pVfDZlvVgU1PGY7A8T9Jow.html',\n",
       "  'http://mlg.ucd.ie/modules/yalp/review_set_z6O2P8bZ9SAqPyjVIl_Dyg.html',\n",
       "  'http://mlg.ucd.ie/modules/yalp/review_set_tKwX_XeMnAyvS_Zpk59i5w.html',\n",
       "  'http://mlg.ucd.ie/modules/yalp/review_set_MqQUriz6cwRzJYid7pRcRw.html'],\n",
       " ['http://mlg.ucd.ie/modules/yalp/index.html',\n",
       "  'http://mlg.ucd.ie/modules/yalp/review_set_cN0DHOTO1VPBMwDow8OzCw.html',\n",
       "  'http://mlg.ucd.ie/modules/yalp/review_set_Oj6W90G1ZVay9cRl6_uKXg.html',\n",
       "  'http://mlg.ucd.ie/modules/yalp/review_set_cdJDKOB0Todcqnv6CiOQTg.html',\n",
       "  'http://mlg.ucd.ie/modules/yalp/review_set_hODnmsq1kK6eA0VLbFQOVw.html',\n",
       "  'http://mlg.ucd.ie/modules/yalp/review_set_5zk3LxFzijmY2JipVZ7Xdg.html',\n",
       "  'http://mlg.ucd.ie/modules/yalp/review_set_kUQwaqwxKlScAQNhRx2_2w.html',\n",
       "  'http://mlg.ucd.ie/modules/yalp/review_set_Daasejc2-RV-MxEKpPjXtA.html',\n",
       "  'http://mlg.ucd.ie/modules/yalp/review_set_kWcAfYg-60hpIUEUSzWjHQ.html',\n",
       "  'http://mlg.ucd.ie/modules/yalp/review_set_3TnNC-AMuQ4upCtcgtU49w.html',\n",
       "  'http://mlg.ucd.ie/modules/yalp/review_set_VHskIuH12SlaguUA83XmYA.html',\n",
       "  'http://mlg.ucd.ie/modules/yalp/review_set_nS6QENxe6YODNrQ45bpC-A.html',\n",
       "  'http://mlg.ucd.ie/modules/yalp/review_set_J2yHV9KNwBHD7bnGMANCpw.html',\n",
       "  'http://mlg.ucd.ie/modules/yalp/review_set_hDzL5ywj0q3CDjXXSvhYAg.html',\n",
       "  'http://mlg.ucd.ie/modules/yalp/review_set_B9QJToIrPjRAUuPoemMUNg.html',\n",
       "  'http://mlg.ucd.ie/modules/yalp/review_set_61GpnJGtPC7X1gSCkBbnHw.html',\n",
       "  'http://mlg.ucd.ie/modules/yalp/review_set_Fruul4wgS8Y_wuUMc7O-Cg.html',\n",
       "  'http://mlg.ucd.ie/modules/yalp/review_set_ZkBliepoBME9_04bGYnAGw.html',\n",
       "  'http://mlg.ucd.ie/modules/yalp/review_set_QMI6A2H1N3SwKU69SiASJA.html',\n",
       "  'http://mlg.ucd.ie/modules/yalp/review_set_DgHXVoAZ4XzbcQMahuJCbw.html',\n",
       "  'http://mlg.ucd.ie/modules/yalp/review_set_kc5JPu8lkg64yUbrheJxng.html',\n",
       "  'http://mlg.ucd.ie/modules/yalp/review_set_CE7hNKYS6gIMKv6jK429uQ.html',\n",
       "  'http://mlg.ucd.ie/modules/yalp/review_set_D2t3yDnG-HI17YOsiiWIuw.html',\n",
       "  'http://mlg.ucd.ie/modules/yalp/review_set_CzqGem5OaPAk10bQK4bzbg.html',\n",
       "  'http://mlg.ucd.ie/modules/yalp/review_set_ey1eAQldmOASEuCdFVmTPA.html',\n",
       "  'http://mlg.ucd.ie/modules/yalp/review_set_ln_sQpaOjtAW5bm5SIp6rw.html',\n",
       "  'http://mlg.ucd.ie/modules/yalp/review_set_uFMOQUE4TsxEt7ifnblBpg.html',\n",
       "  'http://mlg.ucd.ie/modules/yalp/review_set_Z2NF_xBF-7RqAfu_4EO9ow.html',\n",
       "  'http://mlg.ucd.ie/modules/yalp/review_set_v_frjRRrLTm4eJchadhf_g.html',\n",
       "  'http://mlg.ucd.ie/modules/yalp/review_set_E6MzqMIRocjvwU4gPuEImg.html',\n",
       "  'http://mlg.ucd.ie/modules/yalp/review_set_JdSF_NucmJZcl1eNlNXZ0Q.html',\n",
       "  'http://mlg.ucd.ie/modules/yalp/review_set_1QflFDnReuQW7CoXGL9oUA.html',\n",
       "  'http://mlg.ucd.ie/modules/yalp/review_set_G2hTYYzvlg75BisWSHarLQ.html',\n",
       "  'http://mlg.ucd.ie/modules/yalp/review_set_66EYUS3iichq-Gn6KjgX2A.html',\n",
       "  'http://mlg.ucd.ie/modules/yalp/review_set_ccyst2yyDKH8ldrapQPwMg.html',\n",
       "  'http://mlg.ucd.ie/modules/yalp/review_set_lpW5eMwhe1DF5eGQOAAeng.html',\n",
       "  'http://mlg.ucd.ie/modules/yalp/review_set_2RNrD93tdvv691deX3vpWQ.html',\n",
       "  'http://mlg.ucd.ie/modules/yalp/review_set_5UK1KtbB1dHTCo0LNDVslA.html',\n",
       "  'http://mlg.ucd.ie/modules/yalp/review_set_Tp1vNJZ7CHlo4i9AMbBwYQ.html',\n",
       "  'http://mlg.ucd.ie/modules/yalp/review_set_sUlrsu49OiV2HaAkCNLhdQ.html',\n",
       "  'http://mlg.ucd.ie/modules/yalp/review_set_NxaUae0TUcMdg21MX6My4w.html',\n",
       "  'http://mlg.ucd.ie/modules/yalp/review_set_g4rkl-BorzlT1hIz_-vsew.html',\n",
       "  'http://mlg.ucd.ie/modules/yalp/review_set_iYMnlr51o9_4Qw-IuWcc4w.html',\n",
       "  'http://mlg.ucd.ie/modules/yalp/review_set_RJ5XMnAxp0DC4h4dcCECsA.html',\n",
       "  'http://mlg.ucd.ie/modules/yalp/review_set_ti1bb30WwnkDLuVvpTM6fQ.html',\n",
       "  'http://mlg.ucd.ie/modules/yalp/review_set_-0uEqc2vw1xXtuI_r1xTNg.html',\n",
       "  'http://mlg.ucd.ie/modules/yalp/review_set_Z072pEHdos2Gjj3nMdR6uA.html',\n",
       "  'http://mlg.ucd.ie/modules/yalp/review_set_nK7JeIqdBli3umEhBIh33g.html',\n",
       "  'http://mlg.ucd.ie/modules/yalp/review_set_Jf5etKG_Sc3Xe2dcIUvWZw.html',\n",
       "  'http://mlg.ucd.ie/modules/yalp/review_set_gWZOW4-8N5dLixQAlp8iRg.html',\n",
       "  'http://mlg.ucd.ie/modules/yalp/review_set_TNV-nSWQ_pN6wrMwAgxSkA.html',\n",
       "  'http://mlg.ucd.ie/modules/yalp/review_set_gyJRkxqN3b0ib_evxt3mqQ.html',\n",
       "  'http://mlg.ucd.ie/modules/yalp/review_set_5H7AyjxmLGuEjigfXVApZg.html',\n",
       "  'http://mlg.ucd.ie/modules/yalp/review_set_CDl0tbkfSZS3UHg5_L9gBA.html',\n",
       "  'http://mlg.ucd.ie/modules/yalp/review_set_BUcTdN-rNE8urCCQuxSOQA.html',\n",
       "  'http://mlg.ucd.ie/modules/yalp/review_set_qCPyN84ieevYZV9ZbUZXgg.html',\n",
       "  'http://mlg.ucd.ie/modules/yalp/review_set_HO9ABJoXBv29UTNQrRJoRw.html',\n",
       "  'http://mlg.ucd.ie/modules/yalp/review_set_QToLw4ijAdErQ906aqr5aw.html',\n",
       "  'http://mlg.ucd.ie/modules/yalp/review_set_tZkUF9LI9oxtNsZtsbpfVg.html',\n",
       "  'http://mlg.ucd.ie/modules/yalp/review_set_aXWN4oH8W-MVDchWia084g.html',\n",
       "  'http://mlg.ucd.ie/modules/yalp/review_set_HO2knNxcc_8lFtgGxN8q2A.html',\n",
       "  'http://mlg.ucd.ie/modules/yalp/review_set_ApG7b6SZpHTTsX3q6NcXgg.html',\n",
       "  'http://mlg.ucd.ie/modules/yalp/review_set_0C1qx56oVXIkDvnl4CN8tQ.html',\n",
       "  'http://mlg.ucd.ie/modules/yalp/review_set_v2xh5qtrlRJSU3OnixJH2g.html',\n",
       "  'http://mlg.ucd.ie/modules/yalp/review_set_SsNwqMQl0tQrZ5MvBVnceA.html',\n",
       "  'http://mlg.ucd.ie/modules/yalp/review_set_5XX1w4WbwSlrACQ5vKuLDw.html',\n",
       "  'http://mlg.ucd.ie/modules/yalp/review_set_8KiTq2GxJm8mpr8kayAp-A.html',\n",
       "  'http://mlg.ucd.ie/modules/yalp/review_set_H6iQEpsuTy_w6t6thkvOSQ.html',\n",
       "  'http://mlg.ucd.ie/modules/yalp/review_set_KWZCNN7VTFE4BVbIIW14Nw.html',\n",
       "  'http://mlg.ucd.ie/modules/yalp/review_set_F56TiSa71Tk4PIQ0HN8oag.html',\n",
       "  'http://mlg.ucd.ie/modules/yalp/review_set_ZVlAV-bkz-oN7foA5HHWDg.html',\n",
       "  'http://mlg.ucd.ie/modules/yalp/review_set_o0aGMe0ukXSJgd4QefM6cQ.html',\n",
       "  'http://mlg.ucd.ie/modules/yalp/review_set_-8iwcXhLnyqbLgvcrJGgaw.html',\n",
       "  'http://mlg.ucd.ie/modules/yalp/review_set_bclAyinIbsMTVLmlrUzKWw.html',\n",
       "  'http://mlg.ucd.ie/modules/yalp/review_set_9nNkpfDhSeUbskJSxaHTjg.html',\n",
       "  'http://mlg.ucd.ie/modules/yalp/review_set_1mOL0ZVy622lo7hc0f1vXQ.html',\n",
       "  'http://mlg.ucd.ie/modules/yalp/review_set_BmAhw0dGq0K1-TyIqM8SFg.html',\n",
       "  'http://mlg.ucd.ie/modules/yalp/review_set_nk9lP-iXi7xklwN3VYf6Ew.html',\n",
       "  'http://mlg.ucd.ie/modules/yalp/review_set_t7zt6AgybRzdPtj7fh_aJg.html',\n",
       "  'http://mlg.ucd.ie/modules/yalp/review_set_3k9treY8PmsZ42bKmuICgA.html',\n",
       "  'http://mlg.ucd.ie/modules/yalp/review_set_KtTGZzxV6DSNuCn-6T3NcA.html',\n",
       "  'http://mlg.ucd.ie/modules/yalp/review_set_panTWmCXuufjRNBerlvONw.html',\n",
       "  'http://mlg.ucd.ie/modules/yalp/review_set_LrEjsBYlqXdig7x5DFz0ow.html',\n",
       "  'http://mlg.ucd.ie/modules/yalp/review_set_OCgwii1SvfJO29bdQglgRA.html',\n",
       "  'http://mlg.ucd.ie/modules/yalp/review_set_JiecNolGPkAMAsgkK3E4MA.html',\n",
       "  'http://mlg.ucd.ie/modules/yalp/review_set_7BoXrkEw-b98Wi1EaSH3HA.html',\n",
       "  'http://mlg.ucd.ie/modules/yalp/review_set_DqAKVS9zdjepVOa46yKyVw.html',\n",
       "  'http://mlg.ucd.ie/modules/yalp/review_set_yednPCeCKT2eQWtv5wd7Lg.html',\n",
       "  'http://mlg.ucd.ie/modules/yalp/review_set_cicPsia8Wj-DNRkmLbD_xg.html',\n",
       "  'http://mlg.ucd.ie/modules/yalp/review_set_T5f2zlczcS00W70e_omQ6w.html',\n",
       "  'http://mlg.ucd.ie/modules/yalp/review_set_EDcZRvERC22Cvw1yi4-VKg.html',\n",
       "  'http://mlg.ucd.ie/modules/yalp/review_set_Z0hvqoCY2NBK5QEU_1jY-g.html',\n",
       "  'http://mlg.ucd.ie/modules/yalp/review_set_RQ_sx6lNGVjSTtasK3wlQg.html',\n",
       "  'http://mlg.ucd.ie/modules/yalp/review_set_e9KXojla4OuVP7qcC5LNsg.html',\n",
       "  'http://mlg.ucd.ie/modules/yalp/review_set_TBPHp7E-KQpFCsLwY4wamQ.html',\n",
       "  'http://mlg.ucd.ie/modules/yalp/review_set_5V9i2FuhQ3o8ynYwbubmQg.html',\n",
       "  'http://mlg.ucd.ie/modules/yalp/review_set_l1hqzJAIYEs3NQYqjH_kxA.html',\n",
       "  'http://mlg.ucd.ie/modules/yalp/review_set_JgaQFKxW-Bnfc7r5EJZhSQ.html',\n",
       "  'http://mlg.ucd.ie/modules/yalp/review_set_p-7tiC02sUp1JtQNtPL31g.html',\n",
       "  'http://mlg.ucd.ie/modules/yalp/review_set_jHkcNN3KZV9QZQRwwRLRXQ.html',\n",
       "  'http://mlg.ucd.ie/modules/yalp/review_set_inWP6FrTecbCjgbxAxK0dQ.html']]"
      ]
     },
     "execution_count": 258,
     "metadata": {},
     "output_type": "execute_result"
    }
   ],
   "source": [
    "businesses =  [ [mainlink+c for c in a] for a in businesses] # append the reviews obtained with the main link\n",
    "businesses # display the links of the individual reviews for all categories in a list"
   ]
  },
  {
   "cell_type": "code",
   "execution_count": 259,
   "metadata": {},
   "outputs": [
    {
     "data": {
      "text/plain": [
       "[                                                 Review   Ratings\n",
       " 0     Looking for the best tactical supplies? Look n...  Positive\n",
       " 1     Stood in line like an idiot for 5 minutes to p...  Negative\n",
       " 2     Another great store with quality Equipment. Th...  Positive\n",
       " 3     The Problem with this store is not that they h...  Positive\n",
       " 4     Great place! We went in at almost closing time...  Positive\n",
       " ...                                                 ...       ...\n",
       " 1995  God, I'd never thought I'd see the day when I'...  Positive\n",
       " 1996  They keep shooting themselves in the foot. Apo...  Negative\n",
       " 1997  Extremely dark., so dark you can't see the out...  Negative\n",
       " 1998  This place is dark, loud, and filled with enou...  Negative\n",
       " 1999  If you ever wanted proof that sex sells just l...  Negative\n",
       " \n",
       " [2000 rows x 2 columns],\n",
       "                                                  Review   Ratings\n",
       " 0     If you're looking for boxing in the East Valle...  Positive\n",
       " 1     I was really excited to try a fun workout rout...  Negative\n",
       " 2     I was interested in taking a boxing bootcamp c...  Negative\n",
       " 3     I worked out at 1 on 1 boxing for a bout 6 mon...  Positive\n",
       " 4     This place literally KICKED my butt every. sin...  Positive\n",
       " ...                                                 ...       ...\n",
       " 1995  Quad is a wonderful place to exercise. I have ...  Positive\n",
       " 1996  Fantastic spin place! I'm back in Toronto temp...  Positive\n",
       " 1997  I started at Quad in January and I have enjoye...  Positive\n",
       " 1998  I'm taking an 8-week class at Quad right now a...  Positive\n",
       " 1999  Great for in the winter when I'm not riding my...  Positive\n",
       " \n",
       " [2000 rows x 2 columns],\n",
       "                                                  Review   Ratings\n",
       " 0     My husband and I had a rare afternoon off so w...  Negative\n",
       " 1     For years I thought this was only a wine store...  Positive\n",
       " 2     This place is so charming! I went with my husb...  Positive\n",
       " 3     We have been wanting to try this place for a c...  Positive\n",
       " 4     Decor looks ok but layout is too busy. Difficu...  Negative\n",
       " ...                                                 ...       ...\n",
       " 1995  As a first timer ordering Zeppe's, this was an...  Negative\n",
       " 1996  We were also staying at the Fairfield Inn, and...  Positive\n",
       " 1997  I was staying at the Fairfield Inn. Delivery w...  Positive\n",
       " 1998  I drive 7 miles out of the way and past severa...  Positive\n",
       " 1999  Zeppe's used to be my go-to pizza place but re...  Negative\n",
       " \n",
       " [2000 rows x 2 columns]]"
      ]
     },
     "execution_count": 259,
     "metadata": {},
     "output_type": "execute_result"
    }
   ],
   "source": [
    "df= []\n",
    "i=0\n",
    "for data in businesses:\n",
    "    rev=[] \n",
    "    rat=[] \n",
    "    for d in data:\n",
    "        response = urllib.request.urlopen(d)\n",
    "        html = response.read().decode()\n",
    "        parser = bs4.BeautifulSoup(html,\"html.parser\")\n",
    "        for link in parser.findAll('p',class_='review-text'): # get the reviews \n",
    "            rev.append(link.get_text()) # append the text of the review to rev variable\n",
    "        for ratings in parser.findAll('img'): # for ratings\n",
    "            if ratings.get('alt')!=None: \n",
    "                if int(ratings.get('alt')[0])>3: # if >3, append rating = 'Positive'\n",
    "                    rat.append('Positive')\n",
    "                else:\n",
    "                    rat.append('Negative') # if rating = 1, 2, 3 append rating = 'Negative'\n",
    "    df.append(pd.DataFrame(rev)) # put the reviews in a dataframe\n",
    "    df[i]['Ratings']=rat # put the ratings in a dataframe   \n",
    "    i=i+1\n",
    "df[0].columns=['Review','Ratings'] # for first category\n",
    "df[1].columns=['Review','Ratings'] # for second category\n",
    "df[2].columns=['Review','Ratings'] # for third category\n",
    "df # display the list of dataframes"
   ]
  },
  {
   "cell_type": "code",
   "execution_count": 260,
   "metadata": {},
   "outputs": [],
   "source": [
    "df[0].to_csv('fashion.csv',index=False) # convert the dataframes to csv datasets\n",
    "df[1].to_csv('gym.csv',index=False)\n",
    "df[2].to_csv('restaurants.csv',index=False)"
   ]
  },
  {
   "cell_type": "markdown",
   "metadata": {},
   "source": [
    "# Task 2: Pre-processing, Classification and Evaluation"
   ]
  },
  {
   "cell_type": "code",
   "execution_count": 261,
   "metadata": {},
   "outputs": [],
   "source": [
    "df1 = pd.read_csv('fashion.csv') # read the datasets in df1, df2 and df3 variables\n",
    "df2 = pd.read_csv('gym.csv')\n",
    "df3 = pd.read_csv('restaurants.csv')"
   ]
  },
  {
   "cell_type": "markdown",
   "metadata": {},
   "source": [
    "## For dataset 1: fashion"
   ]
  },
  {
   "cell_type": "code",
   "execution_count": 262,
   "metadata": {},
   "outputs": [],
   "source": [
    "reviews = df1[\"Review\"] \n",
    "ratings = df1[\"Ratings\"]"
   ]
  },
  {
   "cell_type": "code",
   "execution_count": 263,
   "metadata": {},
   "outputs": [
    {
     "name": "stdout",
     "output_type": "stream",
     "text": [
      "(2000, 90094)\n"
     ]
    }
   ],
   "source": [
    "vectorizer = CountVectorizer( ngram_range = (1,2),  stop_words='english' ) # pre-process to get data into proper numeric representation\n",
    "X = vectorizer.fit_transform(reviews)\n",
    "terms = vectorizer.get_feature_names()\n",
    "print(X.shape)"
   ]
  },
  {
   "cell_type": "code",
   "execution_count": 264,
   "metadata": {},
   "outputs": [
    {
     "data": {
      "text/plain": [
       "array(['Negative', 'Positive', 'Negative', 'Positive', 'Negative',\n",
       "       'Negative', 'Positive', 'Negative', 'Positive', 'Negative',\n",
       "       'Positive', 'Positive', 'Positive', 'Negative', 'Positive',\n",
       "       'Positive', 'Positive', 'Positive', 'Negative', 'Positive',\n",
       "       'Positive', 'Negative', 'Negative', 'Negative', 'Negative',\n",
       "       'Positive', 'Negative', 'Positive', 'Negative', 'Positive',\n",
       "       'Negative', 'Positive', 'Positive', 'Negative', 'Positive',\n",
       "       'Negative', 'Positive', 'Positive', 'Positive', 'Positive',\n",
       "       'Positive', 'Positive', 'Negative', 'Positive', 'Negative',\n",
       "       'Positive', 'Negative', 'Positive', 'Negative', 'Positive',\n",
       "       'Positive', 'Positive', 'Positive', 'Positive', 'Positive',\n",
       "       'Positive', 'Negative', 'Positive', 'Positive', 'Negative',\n",
       "       'Negative', 'Positive', 'Positive', 'Positive', 'Negative',\n",
       "       'Positive', 'Negative', 'Positive', 'Negative', 'Negative',\n",
       "       'Positive', 'Positive', 'Positive', 'Negative', 'Negative',\n",
       "       'Positive', 'Positive', 'Positive', 'Positive', 'Negative',\n",
       "       'Negative', 'Negative', 'Negative', 'Negative', 'Positive',\n",
       "       'Negative', 'Negative', 'Negative', 'Positive', 'Negative',\n",
       "       'Positive', 'Positive', 'Positive', 'Positive', 'Positive',\n",
       "       'Positive', 'Negative', 'Negative', 'Positive', 'Positive',\n",
       "       'Positive', 'Negative', 'Positive', 'Positive', 'Positive',\n",
       "       'Positive', 'Positive', 'Negative', 'Negative', 'Positive',\n",
       "       'Negative', 'Positive', 'Positive', 'Positive', 'Positive',\n",
       "       'Negative', 'Positive', 'Positive', 'Positive', 'Negative',\n",
       "       'Positive', 'Positive', 'Positive', 'Positive', 'Positive',\n",
       "       'Positive', 'Negative', 'Negative', 'Positive', 'Negative',\n",
       "       'Negative', 'Positive', 'Negative', 'Negative', 'Positive',\n",
       "       'Positive', 'Positive', 'Positive', 'Negative', 'Positive',\n",
       "       'Negative', 'Positive', 'Positive', 'Negative', 'Positive',\n",
       "       'Negative', 'Positive', 'Negative', 'Negative', 'Negative',\n",
       "       'Positive', 'Positive', 'Positive', 'Positive', 'Negative',\n",
       "       'Positive', 'Positive', 'Positive', 'Positive', 'Negative',\n",
       "       'Negative', 'Negative', 'Positive', 'Positive', 'Positive',\n",
       "       'Negative', 'Negative', 'Positive', 'Positive', 'Positive',\n",
       "       'Positive', 'Positive', 'Negative', 'Negative', 'Negative',\n",
       "       'Positive', 'Positive', 'Positive', 'Negative', 'Positive',\n",
       "       'Positive', 'Negative', 'Positive', 'Positive', 'Negative',\n",
       "       'Negative', 'Negative', 'Positive', 'Negative', 'Positive',\n",
       "       'Positive', 'Negative', 'Negative', 'Positive', 'Negative',\n",
       "       'Positive', 'Positive', 'Positive', 'Positive', 'Negative',\n",
       "       'Positive', 'Positive', 'Positive', 'Negative', 'Positive',\n",
       "       'Negative', 'Negative', 'Negative', 'Positive', 'Positive',\n",
       "       'Negative', 'Positive', 'Positive', 'Positive', 'Positive',\n",
       "       'Positive', 'Negative', 'Negative', 'Negative', 'Positive',\n",
       "       'Positive', 'Negative', 'Negative', 'Negative', 'Negative',\n",
       "       'Negative', 'Negative', 'Positive', 'Positive', 'Positive',\n",
       "       'Positive', 'Positive', 'Positive', 'Positive', 'Positive',\n",
       "       'Positive', 'Negative', 'Positive', 'Positive', 'Positive',\n",
       "       'Positive', 'Positive', 'Negative', 'Positive', 'Negative',\n",
       "       'Positive', 'Positive', 'Negative', 'Negative', 'Positive',\n",
       "       'Positive', 'Negative', 'Positive', 'Positive', 'Positive',\n",
       "       'Positive', 'Positive', 'Positive', 'Positive', 'Positive',\n",
       "       'Negative', 'Positive', 'Positive', 'Negative', 'Positive',\n",
       "       'Positive', 'Positive', 'Positive', 'Negative', 'Positive',\n",
       "       'Positive', 'Negative', 'Positive', 'Positive', 'Negative',\n",
       "       'Positive', 'Positive', 'Negative', 'Positive', 'Negative',\n",
       "       'Positive', 'Positive', 'Negative', 'Negative', 'Positive',\n",
       "       'Positive', 'Positive', 'Positive', 'Negative', 'Positive',\n",
       "       'Negative', 'Negative', 'Positive', 'Negative', 'Positive',\n",
       "       'Negative', 'Negative', 'Positive', 'Negative', 'Negative',\n",
       "       'Negative', 'Positive', 'Positive', 'Positive', 'Positive',\n",
       "       'Negative', 'Positive', 'Positive', 'Positive', 'Negative',\n",
       "       'Negative', 'Negative', 'Positive', 'Negative', 'Positive',\n",
       "       'Negative', 'Positive', 'Positive', 'Positive', 'Positive',\n",
       "       'Negative', 'Positive', 'Negative', 'Negative', 'Positive',\n",
       "       'Negative', 'Positive', 'Negative', 'Positive', 'Positive',\n",
       "       'Positive', 'Positive', 'Positive', 'Positive', 'Positive',\n",
       "       'Positive', 'Positive', 'Positive', 'Positive', 'Positive',\n",
       "       'Positive', 'Positive', 'Positive', 'Positive', 'Negative',\n",
       "       'Negative', 'Positive', 'Negative', 'Positive', 'Negative',\n",
       "       'Positive', 'Negative', 'Positive', 'Positive', 'Positive',\n",
       "       'Positive', 'Positive', 'Positive', 'Negative', 'Negative',\n",
       "       'Positive', 'Negative', 'Positive', 'Positive', 'Positive',\n",
       "       'Positive', 'Positive', 'Positive', 'Negative', 'Negative',\n",
       "       'Negative', 'Negative', 'Negative', 'Positive', 'Positive',\n",
       "       'Positive', 'Negative', 'Positive', 'Negative', 'Positive',\n",
       "       'Negative', 'Positive', 'Negative', 'Positive', 'Positive',\n",
       "       'Negative', 'Positive', 'Positive', 'Negative', 'Positive',\n",
       "       'Positive', 'Positive', 'Positive', 'Negative', 'Positive',\n",
       "       'Positive', 'Positive', 'Negative', 'Positive', 'Positive',\n",
       "       'Positive', 'Negative', 'Negative', 'Positive', 'Negative',\n",
       "       'Negative', 'Negative', 'Positive', 'Negative', 'Positive',\n",
       "       'Negative', 'Positive', 'Positive', 'Positive', 'Positive',\n",
       "       'Positive', 'Positive', 'Positive', 'Negative', 'Positive',\n",
       "       'Positive', 'Positive', 'Negative', 'Positive', 'Negative',\n",
       "       'Positive', 'Positive', 'Positive', 'Positive', 'Positive',\n",
       "       'Positive', 'Positive', 'Negative', 'Positive', 'Positive',\n",
       "       'Negative', 'Positive', 'Negative', 'Positive', 'Negative',\n",
       "       'Positive', 'Negative', 'Negative', 'Positive', 'Positive',\n",
       "       'Positive', 'Negative', 'Positive', 'Negative', 'Negative',\n",
       "       'Positive', 'Positive', 'Positive', 'Positive', 'Positive',\n",
       "       'Positive', 'Negative', 'Positive', 'Negative', 'Negative',\n",
       "       'Positive', 'Negative', 'Positive', 'Positive', 'Negative',\n",
       "       'Negative', 'Positive', 'Positive', 'Negative', 'Positive',\n",
       "       'Negative', 'Positive', 'Positive', 'Positive', 'Positive',\n",
       "       'Negative', 'Negative', 'Positive', 'Positive', 'Positive',\n",
       "       'Negative', 'Negative', 'Negative', 'Positive', 'Positive',\n",
       "       'Negative', 'Negative', 'Positive', 'Negative', 'Negative',\n",
       "       'Positive', 'Negative', 'Negative', 'Positive', 'Negative',\n",
       "       'Positive', 'Negative', 'Positive', 'Positive', 'Positive',\n",
       "       'Negative', 'Positive', 'Positive', 'Negative', 'Positive',\n",
       "       'Negative', 'Positive', 'Negative', 'Positive', 'Positive',\n",
       "       'Positive', 'Positive', 'Positive', 'Positive', 'Positive',\n",
       "       'Negative', 'Positive', 'Negative', 'Positive', 'Positive',\n",
       "       'Negative', 'Negative', 'Positive', 'Negative', 'Positive',\n",
       "       'Negative', 'Positive', 'Negative', 'Positive', 'Positive',\n",
       "       'Positive', 'Positive', 'Negative', 'Positive', 'Positive',\n",
       "       'Positive', 'Positive', 'Positive', 'Negative', 'Negative',\n",
       "       'Negative', 'Positive', 'Positive', 'Negative', 'Negative',\n",
       "       'Negative', 'Negative', 'Positive', 'Negative', 'Negative',\n",
       "       'Positive', 'Positive', 'Positive', 'Negative', 'Negative',\n",
       "       'Positive', 'Positive', 'Positive', 'Positive', 'Positive',\n",
       "       'Positive', 'Positive', 'Negative', 'Positive', 'Positive',\n",
       "       'Positive', 'Positive', 'Positive', 'Positive', 'Positive',\n",
       "       'Positive', 'Positive', 'Negative', 'Positive', 'Positive',\n",
       "       'Negative', 'Positive', 'Positive', 'Negative', 'Positive',\n",
       "       'Negative', 'Positive', 'Negative', 'Positive', 'Positive',\n",
       "       'Negative', 'Negative', 'Negative', 'Negative', 'Negative',\n",
       "       'Positive', 'Negative', 'Negative', 'Negative', 'Positive',\n",
       "       'Negative', 'Positive', 'Negative', 'Positive', 'Positive'],\n",
       "      dtype='<U8')"
      ]
     },
     "execution_count": 264,
     "metadata": {},
     "output_type": "execute_result"
    }
   ],
   "source": [
    "data_train, data_test, target_train, target_test = train_test_split(X, ratings, test_size=0.3) # train on 70% data test on 30% data\n",
    "model = MultinomialNB() # use Naive Bayes to evaluate\n",
    "model.fit(data_train, target_train)\n",
    "predicted = model.predict(data_test)\n",
    "predicted # predicted labels"
   ]
  },
  {
   "cell_type": "code",
   "execution_count": 265,
   "metadata": {},
   "outputs": [
    {
     "name": "stdout",
     "output_type": "stream",
     "text": [
      "              precision    recall  f1-score   support\n",
      "\n",
      "    Positive       0.86      0.84      0.85       234\n",
      "    Negative       0.90      0.92      0.91       366\n",
      "\n",
      "    accuracy                           0.89       600\n",
      "   macro avg       0.88      0.88      0.88       600\n",
      "weighted avg       0.89      0.89      0.89       600\n",
      "\n"
     ]
    }
   ],
   "source": [
    "print(classification_report(target_test, predicted, target_names=[\"Positive\",\"Negative\"])) # get a classification report of evaluation metrics"
   ]
  },
  {
   "cell_type": "code",
   "execution_count": 266,
   "metadata": {},
   "outputs": [
    {
     "data": {
      "image/png": "[encoded data removed]",
      "text/plain": [
       "<Figure size 432x288 with 1 Axes>"
      ]
     },
     "metadata": {
      "needs_background": "light"
     },
     "output_type": "display_data"
    }
   ],
   "source": [
    "cm = confusion_matrix(target_test, predicted) # print a confusion matrix\n",
    "fig, ax = plot_confusion_matrix(cm)\n",
    "plt.show()"
   ]
  },
  {
   "cell_type": "markdown",
   "metadata": {},
   "source": [
    "For the fashion dataset, the accuracy is 89%. But since we know that accuracy is not always a reliable factor, let us also take into consideration the confusion matrix. Here, what matters to us is how many are correctly classified i.e. positive are actually classified as positive reviews and negative are actually classified as negative reviews. Precision for positive labels is 86% while that for negative labels is 90% which is a good precision."
   ]
  },
  {
   "cell_type": "markdown",
   "metadata": {},
   "source": [
    "## For dataset 2: gym"
   ]
  },
  {
   "cell_type": "code",
   "execution_count": 267,
   "metadata": {},
   "outputs": [],
   "source": [
    "reviews = df2[\"Review\"]\n",
    "ratings = df2[\"Ratings\"]"
   ]
  },
  {
   "cell_type": "code",
   "execution_count": 268,
   "metadata": {},
   "outputs": [
    {
     "name": "stdout",
     "output_type": "stream",
     "text": [
      "(2000, 98434)\n"
     ]
    }
   ],
   "source": [
    "vectorizer = CountVectorizer( ngram_range = (1,2),  stop_words='english' ) # pre-process to get data into proper numeric representation\n",
    "X = vectorizer.fit_transform(reviews)\n",
    "terms = vectorizer.get_feature_names()\n",
    "print(X.shape)"
   ]
  },
  {
   "cell_type": "code",
   "execution_count": 269,
   "metadata": {},
   "outputs": [
    {
     "data": {
      "text/plain": [
       "array(['Negative', 'Positive', 'Negative', 'Negative', 'Positive',\n",
       "       'Positive', 'Positive', 'Positive', 'Negative', 'Negative',\n",
       "       'Positive', 'Negative', 'Positive', 'Negative', 'Positive',\n",
       "       'Positive', 'Positive', 'Negative', 'Positive', 'Negative',\n",
       "       'Negative', 'Negative', 'Negative', 'Positive', 'Negative',\n",
       "       'Positive', 'Positive', 'Positive', 'Positive', 'Negative',\n",
       "       'Positive', 'Positive', 'Positive', 'Negative', 'Positive',\n",
       "       'Negative', 'Positive', 'Positive', 'Positive', 'Positive',\n",
       "       'Positive', 'Positive', 'Positive', 'Positive', 'Negative',\n",
       "       'Positive', 'Positive', 'Positive', 'Negative', 'Positive',\n",
       "       'Negative', 'Positive', 'Positive', 'Positive', 'Positive',\n",
       "       'Positive', 'Positive', 'Positive', 'Positive', 'Negative',\n",
       "       'Positive', 'Positive', 'Positive', 'Negative', 'Negative',\n",
       "       'Negative', 'Positive', 'Positive', 'Positive', 'Positive',\n",
       "       'Positive', 'Positive', 'Positive', 'Positive', 'Negative',\n",
       "       'Negative', 'Positive', 'Negative', 'Positive', 'Negative',\n",
       "       'Positive', 'Positive', 'Negative', 'Negative', 'Positive',\n",
       "       'Positive', 'Positive', 'Positive', 'Positive', 'Positive',\n",
       "       'Negative', 'Positive', 'Positive', 'Negative', 'Positive',\n",
       "       'Negative', 'Positive', 'Positive', 'Negative', 'Positive',\n",
       "       'Negative', 'Positive', 'Positive', 'Positive', 'Positive',\n",
       "       'Positive', 'Positive', 'Negative', 'Negative', 'Positive',\n",
       "       'Negative', 'Positive', 'Negative', 'Positive', 'Positive',\n",
       "       'Positive', 'Positive', 'Positive', 'Positive', 'Negative',\n",
       "       'Positive', 'Positive', 'Negative', 'Positive', 'Positive',\n",
       "       'Negative', 'Positive', 'Negative', 'Negative', 'Positive',\n",
       "       'Positive', 'Negative', 'Negative', 'Positive', 'Positive',\n",
       "       'Positive', 'Negative', 'Positive', 'Positive', 'Negative',\n",
       "       'Positive', 'Positive', 'Positive', 'Negative', 'Positive',\n",
       "       'Positive', 'Positive', 'Negative', 'Positive', 'Positive',\n",
       "       'Positive', 'Positive', 'Positive', 'Positive', 'Negative',\n",
       "       'Positive', 'Negative', 'Negative', 'Positive', 'Negative',\n",
       "       'Positive', 'Positive', 'Negative', 'Positive', 'Negative',\n",
       "       'Positive', 'Positive', 'Negative', 'Negative', 'Positive',\n",
       "       'Negative', 'Positive', 'Positive', 'Negative', 'Positive',\n",
       "       'Negative', 'Positive', 'Negative', 'Positive', 'Positive',\n",
       "       'Positive', 'Positive', 'Positive', 'Negative', 'Positive',\n",
       "       'Positive', 'Positive', 'Negative', 'Negative', 'Positive',\n",
       "       'Negative', 'Positive', 'Positive', 'Positive', 'Positive',\n",
       "       'Negative', 'Positive', 'Positive', 'Positive', 'Positive',\n",
       "       'Negative', 'Positive', 'Positive', 'Positive', 'Negative',\n",
       "       'Positive', 'Negative', 'Positive', 'Positive', 'Negative',\n",
       "       'Positive', 'Negative', 'Positive', 'Positive', 'Positive',\n",
       "       'Positive', 'Positive', 'Positive', 'Positive', 'Negative',\n",
       "       'Positive', 'Positive', 'Positive', 'Positive', 'Positive',\n",
       "       'Negative', 'Negative', 'Positive', 'Positive', 'Positive',\n",
       "       'Positive', 'Negative', 'Positive', 'Positive', 'Positive',\n",
       "       'Negative', 'Positive', 'Positive', 'Negative', 'Positive',\n",
       "       'Negative', 'Positive', 'Positive', 'Positive', 'Positive',\n",
       "       'Positive', 'Negative', 'Negative', 'Positive', 'Negative',\n",
       "       'Positive', 'Positive', 'Positive', 'Positive', 'Negative',\n",
       "       'Negative', 'Positive', 'Positive', 'Positive', 'Positive',\n",
       "       'Positive', 'Positive', 'Positive', 'Negative', 'Positive',\n",
       "       'Positive', 'Positive', 'Positive', 'Positive', 'Positive',\n",
       "       'Positive', 'Positive', 'Negative', 'Positive', 'Negative',\n",
       "       'Positive', 'Negative', 'Positive', 'Negative', 'Positive',\n",
       "       'Positive', 'Positive', 'Negative', 'Positive', 'Positive',\n",
       "       'Positive', 'Positive', 'Negative', 'Positive', 'Positive',\n",
       "       'Negative', 'Positive', 'Positive', 'Positive', 'Positive',\n",
       "       'Positive', 'Negative', 'Positive', 'Negative', 'Negative',\n",
       "       'Positive', 'Positive', 'Negative', 'Positive', 'Positive',\n",
       "       'Positive', 'Positive', 'Positive', 'Negative', 'Negative',\n",
       "       'Negative', 'Positive', 'Positive', 'Positive', 'Negative',\n",
       "       'Positive', 'Positive', 'Positive', 'Positive', 'Positive',\n",
       "       'Positive', 'Positive', 'Negative', 'Positive', 'Positive',\n",
       "       'Positive', 'Negative', 'Positive', 'Negative', 'Positive',\n",
       "       'Positive', 'Positive', 'Positive', 'Positive', 'Positive',\n",
       "       'Negative', 'Positive', 'Positive', 'Positive', 'Positive',\n",
       "       'Negative', 'Negative', 'Negative', 'Positive', 'Positive',\n",
       "       'Positive', 'Positive', 'Positive', 'Positive', 'Positive',\n",
       "       'Positive', 'Positive', 'Negative', 'Negative', 'Negative',\n",
       "       'Negative', 'Negative', 'Positive', 'Positive', 'Positive',\n",
       "       'Positive', 'Negative', 'Positive', 'Negative', 'Positive',\n",
       "       'Negative', 'Positive', 'Negative', 'Negative', 'Positive',\n",
       "       'Positive', 'Positive', 'Positive', 'Negative', 'Negative',\n",
       "       'Positive', 'Positive', 'Positive', 'Positive', 'Positive',\n",
       "       'Negative', 'Positive', 'Negative', 'Negative', 'Positive',\n",
       "       'Positive', 'Negative', 'Positive', 'Positive', 'Positive',\n",
       "       'Positive', 'Positive', 'Negative', 'Positive', 'Positive',\n",
       "       'Negative', 'Positive', 'Negative', 'Positive', 'Negative',\n",
       "       'Negative', 'Positive', 'Positive', 'Positive', 'Positive',\n",
       "       'Positive', 'Negative', 'Positive', 'Negative', 'Negative',\n",
       "       'Negative', 'Positive', 'Positive', 'Positive', 'Negative',\n",
       "       'Positive', 'Positive', 'Positive', 'Positive', 'Positive',\n",
       "       'Positive', 'Positive', 'Positive', 'Negative', 'Negative',\n",
       "       'Negative', 'Positive', 'Positive', 'Positive', 'Positive',\n",
       "       'Positive', 'Positive', 'Positive', 'Positive', 'Negative',\n",
       "       'Positive', 'Positive', 'Negative', 'Positive', 'Positive',\n",
       "       'Positive', 'Positive', 'Positive', 'Negative', 'Negative',\n",
       "       'Positive', 'Positive', 'Positive', 'Positive', 'Positive',\n",
       "       'Positive', 'Positive', 'Positive', 'Positive', 'Negative',\n",
       "       'Positive', 'Positive', 'Positive', 'Negative', 'Positive',\n",
       "       'Negative', 'Negative', 'Positive', 'Negative', 'Positive',\n",
       "       'Positive', 'Negative', 'Positive', 'Positive', 'Positive',\n",
       "       'Positive', 'Positive', 'Positive', 'Positive', 'Positive',\n",
       "       'Positive', 'Positive', 'Positive', 'Negative', 'Positive',\n",
       "       'Positive', 'Negative', 'Positive', 'Positive', 'Positive',\n",
       "       'Positive', 'Negative', 'Positive', 'Negative', 'Positive',\n",
       "       'Positive', 'Positive', 'Positive', 'Negative', 'Positive',\n",
       "       'Positive', 'Negative', 'Positive', 'Positive', 'Negative',\n",
       "       'Positive', 'Positive', 'Negative', 'Positive', 'Positive',\n",
       "       'Positive', 'Negative', 'Positive', 'Negative', 'Positive',\n",
       "       'Negative', 'Positive', 'Positive', 'Negative', 'Negative',\n",
       "       'Positive', 'Positive', 'Negative', 'Positive', 'Positive',\n",
       "       'Positive', 'Positive', 'Negative', 'Positive', 'Positive',\n",
       "       'Negative', 'Positive', 'Positive', 'Positive', 'Positive',\n",
       "       'Positive', 'Positive', 'Positive', 'Positive', 'Positive',\n",
       "       'Positive', 'Positive', 'Positive', 'Positive', 'Positive',\n",
       "       'Positive', 'Positive', 'Negative', 'Positive', 'Negative',\n",
       "       'Positive', 'Positive', 'Positive', 'Positive', 'Positive',\n",
       "       'Positive', 'Positive', 'Positive', 'Positive', 'Negative',\n",
       "       'Negative', 'Positive', 'Negative', 'Positive', 'Positive',\n",
       "       'Positive', 'Negative', 'Negative', 'Positive', 'Positive',\n",
       "       'Negative', 'Positive', 'Negative', 'Negative', 'Positive',\n",
       "       'Positive', 'Negative', 'Positive', 'Negative', 'Negative',\n",
       "       'Negative', 'Positive', 'Positive', 'Negative', 'Negative',\n",
       "       'Positive', 'Positive', 'Positive', 'Positive', 'Negative',\n",
       "       'Negative', 'Negative', 'Positive', 'Positive', 'Positive',\n",
       "       'Positive', 'Negative', 'Negative', 'Negative', 'Positive',\n",
       "       'Negative', 'Positive', 'Positive', 'Positive', 'Positive'],\n",
       "      dtype='<U8')"
      ]
     },
     "execution_count": 269,
     "metadata": {},
     "output_type": "execute_result"
    }
   ],
   "source": [
    "data_train, data_test, target_train, target_test = train_test_split(X, ratings, test_size=0.3)\n",
    "model = MultinomialNB()\n",
    "model.fit(data_train, target_train)\n",
    "predicted = model.predict(data_test)\n",
    "predicted"
   ]
  },
  {
   "cell_type": "code",
   "execution_count": 270,
   "metadata": {},
   "outputs": [
    {
     "name": "stdout",
     "output_type": "stream",
     "text": [
      "              precision    recall  f1-score   support\n",
      "\n",
      "    Positive       0.89      0.84      0.86       195\n",
      "    Negative       0.92      0.95      0.94       405\n",
      "\n",
      "    accuracy                           0.91       600\n",
      "   macro avg       0.90      0.89      0.90       600\n",
      "weighted avg       0.91      0.91      0.91       600\n",
      "\n"
     ]
    }
   ],
   "source": [
    "print(classification_report(target_test, predicted, target_names=[\"Positive\",\"Negative\"]))"
   ]
  },
  {
   "cell_type": "code",
   "execution_count": 271,
   "metadata": {},
   "outputs": [
    {
     "data": {
      "image/png": "[encoded data removed]",
      "text/plain": [
       "<Figure size 432x288 with 1 Axes>"
      ]
     },
     "metadata": {
      "needs_background": "light"
     },
     "output_type": "display_data"
    }
   ],
   "source": [
    "cm = confusion_matrix(target_test, predicted) # print a confusion matrix\n",
    "fig, ax = plot_confusion_matrix(cm)\n",
    "plt.show()"
   ]
  },
  {
   "cell_type": "markdown",
   "metadata": {},
   "source": [
    "For the gym dataset, the accuracy is 91%. Let us also take into consideration the confusion matrix. Here, again what matters to us is how many are correctly classified i.e. positive are actually classified as positive reviews and negative are actually classified as negative reviews. Precision for positive labels is 89% while that for negative labels is 92% which is a better precision than previous fashion dataset."
   ]
  },
  {
   "cell_type": "markdown",
   "metadata": {},
   "source": [
    "## For dataset 3: restaurants"
   ]
  },
  {
   "cell_type": "code",
   "execution_count": 272,
   "metadata": {},
   "outputs": [],
   "source": [
    "reviews = df3[\"Review\"]\n",
    "ratings = df3[\"Ratings\"]"
   ]
  },
  {
   "cell_type": "code",
   "execution_count": 273,
   "metadata": {},
   "outputs": [
    {
     "name": "stdout",
     "output_type": "stream",
     "text": [
      "(2000, 92857)\n"
     ]
    }
   ],
   "source": [
    "vectorizer = CountVectorizer( ngram_range = (1,2),  stop_words='english' )\n",
    "X = vectorizer.fit_transform(reviews)\n",
    "terms = vectorizer.get_feature_names()\n",
    "print(X.shape)"
   ]
  },
  {
   "cell_type": "code",
   "execution_count": 274,
   "metadata": {},
   "outputs": [
    {
     "data": {
      "text/plain": [
       "array(['Positive', 'Positive', 'Positive', 'Positive', 'Positive',\n",
       "       'Positive', 'Positive', 'Negative', 'Negative', 'Positive',\n",
       "       'Positive', 'Positive', 'Negative', 'Positive', 'Negative',\n",
       "       'Positive', 'Positive', 'Positive', 'Positive', 'Positive',\n",
       "       'Negative', 'Positive', 'Positive', 'Positive', 'Negative',\n",
       "       'Negative', 'Negative', 'Negative', 'Negative', 'Positive',\n",
       "       'Negative', 'Positive', 'Positive', 'Positive', 'Positive',\n",
       "       'Positive', 'Positive', 'Positive', 'Negative', 'Positive',\n",
       "       'Positive', 'Positive', 'Positive', 'Positive', 'Positive',\n",
       "       'Negative', 'Positive', 'Negative', 'Negative', 'Negative',\n",
       "       'Positive', 'Negative', 'Positive', 'Positive', 'Positive',\n",
       "       'Positive', 'Positive', 'Positive', 'Positive', 'Positive',\n",
       "       'Positive', 'Negative', 'Positive', 'Positive', 'Positive',\n",
       "       'Negative', 'Positive', 'Positive', 'Negative', 'Positive',\n",
       "       'Positive', 'Positive', 'Positive', 'Negative', 'Negative',\n",
       "       'Positive', 'Positive', 'Negative', 'Positive', 'Positive',\n",
       "       'Positive', 'Negative', 'Negative', 'Positive', 'Negative',\n",
       "       'Positive', 'Negative', 'Positive', 'Positive', 'Positive',\n",
       "       'Negative', 'Positive', 'Negative', 'Positive', 'Negative',\n",
       "       'Positive', 'Positive', 'Positive', 'Negative', 'Positive',\n",
       "       'Positive', 'Positive', 'Positive', 'Positive', 'Positive',\n",
       "       'Positive', 'Positive', 'Negative', 'Positive', 'Positive',\n",
       "       'Positive', 'Positive', 'Positive', 'Positive', 'Positive',\n",
       "       'Positive', 'Positive', 'Negative', 'Positive', 'Positive',\n",
       "       'Negative', 'Positive', 'Positive', 'Positive', 'Positive',\n",
       "       'Negative', 'Positive', 'Positive', 'Positive', 'Positive',\n",
       "       'Negative', 'Negative', 'Positive', 'Positive', 'Positive',\n",
       "       'Negative', 'Negative', 'Positive', 'Negative', 'Negative',\n",
       "       'Positive', 'Positive', 'Positive', 'Positive', 'Negative',\n",
       "       'Negative', 'Positive', 'Negative', 'Positive', 'Positive',\n",
       "       'Negative', 'Positive', 'Positive', 'Positive', 'Positive',\n",
       "       'Positive', 'Negative', 'Positive', 'Positive', 'Positive',\n",
       "       'Positive', 'Positive', 'Negative', 'Positive', 'Negative',\n",
       "       'Negative', 'Positive', 'Negative', 'Positive', 'Negative',\n",
       "       'Negative', 'Negative', 'Negative', 'Positive', 'Positive',\n",
       "       'Positive', 'Positive', 'Positive', 'Negative', 'Positive',\n",
       "       'Positive', 'Positive', 'Positive', 'Positive', 'Positive',\n",
       "       'Positive', 'Negative', 'Negative', 'Negative', 'Positive',\n",
       "       'Positive', 'Negative', 'Negative', 'Positive', 'Positive',\n",
       "       'Positive', 'Negative', 'Positive', 'Positive', 'Positive',\n",
       "       'Positive', 'Negative', 'Positive', 'Positive', 'Positive',\n",
       "       'Negative', 'Negative', 'Positive', 'Positive', 'Positive',\n",
       "       'Positive', 'Negative', 'Positive', 'Positive', 'Negative',\n",
       "       'Positive', 'Positive', 'Positive', 'Positive', 'Negative',\n",
       "       'Positive', 'Positive', 'Negative', 'Positive', 'Negative',\n",
       "       'Positive', 'Positive', 'Positive', 'Negative', 'Positive',\n",
       "       'Positive', 'Positive', 'Positive', 'Negative', 'Positive',\n",
       "       'Negative', 'Positive', 'Negative', 'Positive', 'Positive',\n",
       "       'Positive', 'Positive', 'Negative', 'Positive', 'Positive',\n",
       "       'Negative', 'Negative', 'Positive', 'Negative', 'Negative',\n",
       "       'Negative', 'Negative', 'Positive', 'Negative', 'Positive',\n",
       "       'Positive', 'Negative', 'Negative', 'Positive', 'Negative',\n",
       "       'Positive', 'Positive', 'Positive', 'Negative', 'Positive',\n",
       "       'Positive', 'Positive', 'Positive', 'Negative', 'Positive',\n",
       "       'Positive', 'Positive', 'Positive', 'Positive', 'Positive',\n",
       "       'Positive', 'Positive', 'Negative', 'Negative', 'Negative',\n",
       "       'Negative', 'Negative', 'Negative', 'Positive', 'Negative',\n",
       "       'Positive', 'Positive', 'Positive', 'Positive', 'Positive',\n",
       "       'Negative', 'Positive', 'Positive', 'Negative', 'Positive',\n",
       "       'Negative', 'Negative', 'Positive', 'Negative', 'Negative',\n",
       "       'Positive', 'Negative', 'Positive', 'Positive', 'Positive',\n",
       "       'Negative', 'Positive', 'Negative', 'Positive', 'Negative',\n",
       "       'Negative', 'Positive', 'Negative', 'Positive', 'Positive',\n",
       "       'Negative', 'Negative', 'Negative', 'Positive', 'Positive',\n",
       "       'Positive', 'Positive', 'Positive', 'Positive', 'Positive',\n",
       "       'Negative', 'Positive', 'Positive', 'Negative', 'Positive',\n",
       "       'Negative', 'Positive', 'Positive', 'Positive', 'Negative',\n",
       "       'Negative', 'Positive', 'Positive', 'Positive', 'Positive',\n",
       "       'Positive', 'Positive', 'Negative', 'Positive', 'Negative',\n",
       "       'Negative', 'Negative', 'Positive', 'Negative', 'Positive',\n",
       "       'Positive', 'Positive', 'Positive', 'Negative', 'Negative',\n",
       "       'Negative', 'Positive', 'Negative', 'Positive', 'Positive',\n",
       "       'Positive', 'Positive', 'Positive', 'Positive', 'Negative',\n",
       "       'Positive', 'Positive', 'Positive', 'Negative', 'Negative',\n",
       "       'Positive', 'Positive', 'Negative', 'Positive', 'Positive',\n",
       "       'Positive', 'Negative', 'Positive', 'Positive', 'Positive',\n",
       "       'Positive', 'Positive', 'Positive', 'Positive', 'Positive',\n",
       "       'Negative', 'Positive', 'Positive', 'Positive', 'Positive',\n",
       "       'Positive', 'Positive', 'Positive', 'Positive', 'Positive',\n",
       "       'Positive', 'Positive', 'Negative', 'Positive', 'Positive',\n",
       "       'Positive', 'Negative', 'Positive', 'Positive', 'Positive',\n",
       "       'Negative', 'Positive', 'Negative', 'Positive', 'Negative',\n",
       "       'Positive', 'Positive', 'Negative', 'Positive', 'Positive',\n",
       "       'Negative', 'Positive', 'Positive', 'Positive', 'Negative',\n",
       "       'Negative', 'Positive', 'Negative', 'Positive', 'Negative',\n",
       "       'Positive', 'Positive', 'Negative', 'Positive', 'Positive',\n",
       "       'Positive', 'Negative', 'Positive', 'Negative', 'Positive',\n",
       "       'Positive', 'Positive', 'Negative', 'Positive', 'Negative',\n",
       "       'Negative', 'Positive', 'Negative', 'Negative', 'Positive',\n",
       "       'Positive', 'Positive', 'Positive', 'Positive', 'Positive',\n",
       "       'Positive', 'Positive', 'Positive', 'Positive', 'Positive',\n",
       "       'Positive', 'Negative', 'Positive', 'Negative', 'Negative',\n",
       "       'Positive', 'Negative', 'Negative', 'Positive', 'Positive',\n",
       "       'Positive', 'Positive', 'Positive', 'Negative', 'Negative',\n",
       "       'Negative', 'Positive', 'Positive', 'Negative', 'Positive',\n",
       "       'Positive', 'Positive', 'Positive', 'Positive', 'Positive',\n",
       "       'Negative', 'Negative', 'Positive', 'Positive', 'Negative',\n",
       "       'Positive', 'Positive', 'Positive', 'Negative', 'Positive',\n",
       "       'Negative', 'Positive', 'Positive', 'Negative', 'Positive',\n",
       "       'Positive', 'Positive', 'Negative', 'Positive', 'Negative',\n",
       "       'Positive', 'Negative', 'Positive', 'Positive', 'Positive',\n",
       "       'Positive', 'Positive', 'Negative', 'Negative', 'Negative',\n",
       "       'Positive', 'Positive', 'Positive', 'Positive', 'Negative',\n",
       "       'Positive', 'Negative', 'Positive', 'Positive', 'Negative',\n",
       "       'Negative', 'Positive', 'Positive', 'Positive', 'Positive',\n",
       "       'Positive', 'Negative', 'Negative', 'Negative', 'Positive',\n",
       "       'Positive', 'Positive', 'Positive', 'Negative', 'Positive',\n",
       "       'Positive', 'Positive', 'Positive', 'Negative', 'Negative',\n",
       "       'Positive', 'Negative', 'Positive', 'Positive', 'Positive',\n",
       "       'Negative', 'Negative', 'Positive', 'Negative', 'Negative',\n",
       "       'Positive', 'Positive', 'Positive', 'Positive', 'Positive',\n",
       "       'Positive', 'Negative', 'Negative', 'Positive', 'Positive',\n",
       "       'Negative', 'Negative', 'Negative', 'Negative', 'Negative',\n",
       "       'Positive', 'Positive', 'Positive', 'Negative', 'Positive',\n",
       "       'Positive', 'Negative', 'Negative', 'Negative', 'Negative',\n",
       "       'Negative', 'Negative', 'Positive', 'Positive', 'Positive',\n",
       "       'Positive', 'Negative', 'Negative', 'Positive', 'Positive',\n",
       "       'Negative', 'Positive', 'Negative', 'Negative', 'Positive',\n",
       "       'Negative', 'Negative', 'Positive', 'Positive', 'Positive',\n",
       "       'Negative', 'Positive', 'Negative', 'Positive', 'Positive'],\n",
       "      dtype='<U8')"
      ]
     },
     "execution_count": 274,
     "metadata": {},
     "output_type": "execute_result"
    }
   ],
   "source": [
    "data_train, data_test, target_train, target_test = train_test_split(X, ratings, test_size=0.3)\n",
    "model = MultinomialNB()\n",
    "model.fit(data_train, target_train)\n",
    "predicted = model.predict(data_test)\n",
    "predicted"
   ]
  },
  {
   "cell_type": "code",
   "execution_count": 275,
   "metadata": {},
   "outputs": [
    {
     "name": "stdout",
     "output_type": "stream",
     "text": [
      "              precision    recall  f1-score   support\n",
      "\n",
      "    Positive       0.85      0.78      0.81       226\n",
      "    Negative       0.87      0.92      0.90       374\n",
      "\n",
      "    accuracy                           0.87       600\n",
      "   macro avg       0.86      0.85      0.86       600\n",
      "weighted avg       0.87      0.87      0.87       600\n",
      "\n"
     ]
    }
   ],
   "source": [
    "print(classification_report(target_test, predicted, target_names=[\"Positive\",\"Negative\"]))"
   ]
  },
  {
   "cell_type": "code",
   "execution_count": 276,
   "metadata": {},
   "outputs": [
    {
     "data": {
      "image/png": "[encoded data removed]",
      "text/plain": [
       "<Figure size 432x288 with 1 Axes>"
      ]
     },
     "metadata": {
      "needs_background": "light"
     },
     "output_type": "display_data"
    }
   ],
   "source": [
    "cm = confusion_matrix(target_test, predicted) # print a confusion matrix\n",
    "fig, ax = plot_confusion_matrix(cm)\n",
    "plt.show()"
   ]
  },
  {
   "cell_type": "markdown",
   "metadata": {},
   "source": [
    "For the restaurants dataset, the accuracy is 87%. Let us also take into consideration the confusion matrix. Here, again what matters to us is how many are correctly classified i.e. positive are actually classified as positive reviews and negative are actually classified as negative reviews. Precision for positive labels is 85% while that for negative labels is 87%.\n",
    "\n",
    "So, overall in terms of accuracy the order of performance for the datasets is as follows:\n",
    "\n",
    "gym (91%) > fashion (89%) > restaurants (87%)\n",
    "\n",
    "And if we see in terms of precision of positive and negative labels, the same is inferred:\n",
    "\n",
    "Positive: gym (89%) > fashion (86%) > restaurants (85%)\n",
    "\n",
    "Negative: gym (92%) > fashion (90%) > restaurants (87%)"
   ]
  },
  {
   "cell_type": "markdown",
   "metadata": {},
   "source": [
    "# Task 3: Training on one category and evaluating on the other two "
   ]
  },
  {
   "cell_type": "markdown",
   "metadata": {},
   "source": [
    "## (a.) Training on fashion dataset, evaluation on gym and restaurants datasets"
   ]
  },
  {
   "cell_type": "code",
   "execution_count": 277,
   "metadata": {},
   "outputs": [
    {
     "data": {
      "text/plain": [
       "(2000, 90094)"
      ]
     },
     "execution_count": 277,
     "metadata": {},
     "output_type": "execute_result"
    }
   ],
   "source": [
    "vectorizer = CountVectorizer( ngram_range = (1,2),  stop_words='english' ) # prepare fashion dataset\n",
    "X_fashion = vectorizer.fit_transform(df1['Review'].values)\n",
    "y_fashion = df1['Ratings'].values\n",
    "X_fashion.shape"
   ]
  },
  {
   "cell_type": "code",
   "execution_count": 278,
   "metadata": {},
   "outputs": [
    {
     "data": {
      "text/plain": [
       "(2000, 90094)"
      ]
     },
     "execution_count": 278,
     "metadata": {},
     "output_type": "execute_result"
    }
   ],
   "source": [
    "X_gym = vectorizer.transform(df2['Review'].values) # prepare gym dataset\n",
    "y_gym = df2['Ratings'].values\n",
    "X_gym.shape"
   ]
  },
  {
   "cell_type": "code",
   "execution_count": 279,
   "metadata": {},
   "outputs": [
    {
     "data": {
      "text/plain": [
       "(2000, 90094)"
      ]
     },
     "execution_count": 279,
     "metadata": {},
     "output_type": "execute_result"
    }
   ],
   "source": [
    "X_restaurant = vectorizer.transform(df3['Review'].values) # prepare restaurant dataset\n",
    "y_restaurant = df3['Ratings'].values\n",
    "X_restaurant.shape"
   ]
  },
  {
   "cell_type": "markdown",
   "metadata": {},
   "source": [
    "### Train on fashion dataset"
   ]
  },
  {
   "cell_type": "code",
   "execution_count": 280,
   "metadata": {},
   "outputs": [
    {
     "data": {
      "text/plain": [
       "MultinomialNB(alpha=1.0, class_prior=None, fit_prior=True)"
      ]
     },
     "execution_count": 280,
     "metadata": {},
     "output_type": "execute_result"
    }
   ],
   "source": [
    "model_fashion = MultinomialNB() # train on fashion dataset with Naive Bayes\n",
    "model_fashion.fit(X_fashion, y_fashion)"
   ]
  },
  {
   "cell_type": "markdown",
   "metadata": {},
   "source": [
    "### Test on gym dataset"
   ]
  },
  {
   "cell_type": "code",
   "execution_count": 281,
   "metadata": {},
   "outputs": [
    {
     "name": "stdout",
     "output_type": "stream",
     "text": [
      "              precision    recall  f1-score   support\n",
      "\n",
      "    Positive       0.95      0.70      0.81       701\n",
      "    Negative       0.86      0.98      0.92      1299\n",
      "\n",
      "    accuracy                           0.88      2000\n",
      "   macro avg       0.91      0.84      0.86      2000\n",
      "weighted avg       0.89      0.88      0.88      2000\n",
      "\n"
     ]
    }
   ],
   "source": [
    "y_pred = model_fashion.predict(X_gym) # test on gym dataset \n",
    "print(classification_report(y_gym, y_pred, target_names=[\"Positive\",\"Negative\"]))"
   ]
  },
  {
   "cell_type": "code",
   "execution_count": 282,
   "metadata": {},
   "outputs": [
    {
     "data": {
      "image/png": "[encoded data removed]",
      "text/plain": [
       "<Figure size 432x288 with 1 Axes>"
      ]
     },
     "metadata": {
      "needs_background": "light"
     },
     "output_type": "display_data"
    }
   ],
   "source": [
    "cm = confusion_matrix(y_gym, y_pred)\n",
    "fig, ax = plot_confusion_matrix(cm)\n",
    "plt.show()"
   ]
  },
  {
   "cell_type": "markdown",
   "metadata": {},
   "source": [
    "### Test on restaurants dataset"
   ]
  },
  {
   "cell_type": "code",
   "execution_count": 283,
   "metadata": {},
   "outputs": [
    {
     "name": "stdout",
     "output_type": "stream",
     "text": [
      "              precision    recall  f1-score   support\n",
      "\n",
      "    Positive       0.91      0.59      0.72       838\n",
      "    Negative       0.76      0.96      0.85      1162\n",
      "\n",
      "    accuracy                           0.80      2000\n",
      "   macro avg       0.84      0.77      0.78      2000\n",
      "weighted avg       0.83      0.80      0.79      2000\n",
      "\n"
     ]
    }
   ],
   "source": [
    "y_pred = model_fashion.predict(X_restaurant) # test on restaurants dataset\n",
    "print(classification_report(y_restaurant, y_pred, target_names=[\"Positive\",\"Negative\"]))"
   ]
  },
  {
   "cell_type": "code",
   "execution_count": 284,
   "metadata": {},
   "outputs": [
    {
     "data": {
      "image/png": "[encoded data removed]",
      "text/plain": [
       "<Figure size 432x288 with 1 Axes>"
      ]
     },
     "metadata": {
      "needs_background": "light"
     },
     "output_type": "display_data"
    }
   ],
   "source": [
    "cm = confusion_matrix(y_restaurant, y_pred)\n",
    "fig, ax = plot_confusion_matrix(cm)\n",
    "plt.show()"
   ]
  },
  {
   "cell_type": "markdown",
   "metadata": {},
   "source": [
    "Now, when we train on the fashion dataset with Naive Bayes and test the model on gym and restaurants dataset, their accuracies seem to drop than their original ones. For instance, the accuracy of gym dataset drops from 91% to 88% and that of the restaurant dataset drops from 87% to 80%. This is bound to happen because we are training the dataset on a different dataset testing the model on a whole different dataset. Hence, the accuracy drops."
   ]
  },
  {
   "cell_type": "markdown",
   "metadata": {},
   "source": [
    "## (b.) Training on gym dataset, evaluation on fashion and restaurants dataset"
   ]
  },
  {
   "cell_type": "markdown",
   "metadata": {},
   "source": [
    "### Train on gym dataset"
   ]
  },
  {
   "cell_type": "code",
   "execution_count": 285,
   "metadata": {},
   "outputs": [
    {
     "data": {
      "text/plain": [
       "MultinomialNB(alpha=1.0, class_prior=None, fit_prior=True)"
      ]
     },
     "execution_count": 285,
     "metadata": {},
     "output_type": "execute_result"
    }
   ],
   "source": [
    "model_gym = MultinomialNB()\n",
    "model_gym.fit(X_gym, y_gym)"
   ]
  },
  {
   "cell_type": "markdown",
   "metadata": {},
   "source": [
    "### Test on fashion dataset"
   ]
  },
  {
   "cell_type": "code",
   "execution_count": 286,
   "metadata": {},
   "outputs": [
    {
     "name": "stdout",
     "output_type": "stream",
     "text": [
      "              precision    recall  f1-score   support\n",
      "\n",
      "    Positive       0.80      0.88      0.84       795\n",
      "    Negative       0.91      0.86      0.88      1205\n",
      "\n",
      "    accuracy                           0.86      2000\n",
      "   macro avg       0.86      0.87      0.86      2000\n",
      "weighted avg       0.87      0.86      0.87      2000\n",
      "\n"
     ]
    }
   ],
   "source": [
    "y_pred = model_gym.predict(X_fashion)\n",
    "print(classification_report(y_fashion, y_pred, target_names=[\"Positive\",\"Negative\"]))"
   ]
  },
  {
   "cell_type": "code",
   "execution_count": 287,
   "metadata": {},
   "outputs": [
    {
     "data": {
      "image/png": "[encoded data removed]",
      "text/plain": [
       "<Figure size 432x288 with 1 Axes>"
      ]
     },
     "metadata": {
      "needs_background": "light"
     },
     "output_type": "display_data"
    }
   ],
   "source": [
    "cm = confusion_matrix(y_fashion, y_pred)\n",
    "fig, ax = plot_confusion_matrix(cm)\n",
    "plt.show()"
   ]
  },
  {
   "cell_type": "markdown",
   "metadata": {},
   "source": [
    "### Test on restaurants dataset"
   ]
  },
  {
   "cell_type": "code",
   "execution_count": 288,
   "metadata": {},
   "outputs": [
    {
     "name": "stdout",
     "output_type": "stream",
     "text": [
      "              precision    recall  f1-score   support\n",
      "\n",
      "    Positive       0.91      0.56      0.69       838\n",
      "    Negative       0.75      0.96      0.84      1162\n",
      "\n",
      "    accuracy                           0.79      2000\n",
      "   macro avg       0.83      0.76      0.77      2000\n",
      "weighted avg       0.82      0.79      0.78      2000\n",
      "\n"
     ]
    }
   ],
   "source": [
    "y_pred = model_gym.predict(X_restaurant)\n",
    "print(classification_report(y_restaurant, y_pred, target_names=[\"Positive\",\"Negative\"]))"
   ]
  },
  {
   "cell_type": "code",
   "execution_count": 289,
   "metadata": {},
   "outputs": [
    {
     "data": {
      "image/png": "[encoded data removed]",
      "text/plain": [
       "<Figure size 432x288 with 1 Axes>"
      ]
     },
     "metadata": {
      "needs_background": "light"
     },
     "output_type": "display_data"
    }
   ],
   "source": [
    "cm = confusion_matrix(y_restaurant, y_pred)\n",
    "fig, ax = plot_confusion_matrix(cm)\n",
    "plt.show()"
   ]
  },
  {
   "cell_type": "markdown",
   "metadata": {},
   "source": [
    "Now, when we train on the gym dataset with Naive Bayes and test the model on fashion and restaurants dataset, their accuracies seem to drop than their original ones here too. For instance, the accuracy of fashion dataset drops from 89% to 86% and that of the restaurant dataset drops from 87% to 79%. This is bound to happen because we are training the dataset on a different dataset testing the model on a whole different dataset. Hence, the accuracy drops."
   ]
  },
  {
   "cell_type": "markdown",
   "metadata": {},
   "source": [
    "## (c.) Training on restaurants dataset, evaluation on fashion and gym dataset"
   ]
  },
  {
   "cell_type": "markdown",
   "metadata": {},
   "source": [
    "### Train on restaurant dataset"
   ]
  },
  {
   "cell_type": "code",
   "execution_count": 290,
   "metadata": {},
   "outputs": [
    {
     "data": {
      "text/plain": [
       "MultinomialNB(alpha=1.0, class_prior=None, fit_prior=True)"
      ]
     },
     "execution_count": 290,
     "metadata": {},
     "output_type": "execute_result"
    }
   ],
   "source": [
    "model_restaurant = MultinomialNB()\n",
    "model_restaurant.fit(X_restaurant, y_restaurant)"
   ]
  },
  {
   "cell_type": "markdown",
   "metadata": {},
   "source": [
    "### Test on fashion dataset"
   ]
  },
  {
   "cell_type": "code",
   "execution_count": 291,
   "metadata": {},
   "outputs": [
    {
     "name": "stdout",
     "output_type": "stream",
     "text": [
      "              precision    recall  f1-score   support\n",
      "\n",
      "    Positive       0.70      0.91      0.79       795\n",
      "    Negative       0.93      0.75      0.83      1205\n",
      "\n",
      "    accuracy                           0.81      2000\n",
      "   macro avg       0.81      0.83      0.81      2000\n",
      "weighted avg       0.84      0.81      0.81      2000\n",
      "\n"
     ]
    }
   ],
   "source": [
    "y_pred = model_restaurant.predict(X_fashion)\n",
    "print(classification_report(y_fashion, y_pred, target_names=[\"Positive\",\"Negative\"]))"
   ]
  },
  {
   "cell_type": "code",
   "execution_count": 292,
   "metadata": {},
   "outputs": [
    {
     "data": {
      "image/png": "[encoded data removed]",
      "text/plain": [
       "<Figure size 432x288 with 1 Axes>"
      ]
     },
     "metadata": {
      "needs_background": "light"
     },
     "output_type": "display_data"
    }
   ],
   "source": [
    "cm = confusion_matrix(y_fashion, y_pred)\n",
    "fig, ax = plot_confusion_matrix(cm)\n",
    "plt.show()"
   ]
  },
  {
   "cell_type": "markdown",
   "metadata": {},
   "source": [
    "### Test on gym dataset"
   ]
  },
  {
   "cell_type": "code",
   "execution_count": 293,
   "metadata": {},
   "outputs": [
    {
     "name": "stdout",
     "output_type": "stream",
     "text": [
      "              precision    recall  f1-score   support\n",
      "\n",
      "    Positive       0.78      0.87      0.82       701\n",
      "    Negative       0.92      0.87      0.89      1299\n",
      "\n",
      "    accuracy                           0.87      2000\n",
      "   macro avg       0.85      0.87      0.86      2000\n",
      "weighted avg       0.87      0.87      0.87      2000\n",
      "\n"
     ]
    }
   ],
   "source": [
    "y_pred = model_restaurant.predict(X_gym)\n",
    "print(classification_report(y_gym, y_pred, target_names=[\"Positive\",\"Negative\"]))"
   ]
  },
  {
   "cell_type": "code",
   "execution_count": 294,
   "metadata": {},
   "outputs": [
    {
     "data": {
      "image/png": "[encoded data removed]",
      "text/plain": [
       "<Figure size 432x288 with 1 Axes>"
      ]
     },
     "metadata": {
      "needs_background": "light"
     },
     "output_type": "display_data"
    }
   ],
   "source": [
    "cm = confusion_matrix(y_gym, y_pred)\n",
    "fig, ax = plot_confusion_matrix(cm)\n",
    "plt.show()"
   ]
  },
  {
   "cell_type": "markdown",
   "metadata": {},
   "source": [
    "Now, when we train on the restaurant dataset with Naive Bayes and test the model on fashion and gym dataset, their accuracies seem to drop than their original ones here as expected and observed. For instance, the accuracy of fashion dataset drops from 89% to 81% and that of the gym dataset drops from 91% to 87%. This is bound to happen because we are training the dataset on a different dataset testing the model on a whole different dataset. Hence, the accuracy drops."
   ]
  },
  {
   "cell_type": "markdown",
   "metadata": {},
   "source": [
    "# Reflection"
   ]
  },
  {
   "cell_type": "markdown",
   "metadata": {},
   "source": [
    "So, overall to summarise, the performance of datasets based on their order of decreasing accuracies are gym , fashion and restaurants. Their accuracies are high because of the training and testing data that each of the dataset is split into.\n",
    "\n",
    "Also, when a model is trained on one dataset and then tested on a completely different dataset, we observe that it's accuracy is bound to drop as we are not splitting the data for training and testing."
   ]
  }
 ],
 "metadata": {
  "kernelspec": {
   "display_name": "Python 3",
   "language": "python",
   "name": "python3"
  },
  "language_info": {
   "codemirror_mode": {
    "name": "ipython",
    "version": 3
   },
   "file_extension": ".py",
   "mimetype": "text/x-python",
   "name": "python",
   "nbconvert_exporter": "python",
   "pygments_lexer": "ipython3",
   "version": "3.7.1"
  }
 },
 "nbformat": 4,
 "nbformat_minor": 2
}
